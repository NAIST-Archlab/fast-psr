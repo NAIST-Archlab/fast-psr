{
 "cells": [
  {
   "cell_type": "code",
   "execution_count": 44,
   "metadata": {},
   "outputs": [
    {
     "name": "stdout",
     "output_type": "stream",
     "text": [
      "The autoreload extension is already loaded. To reload it, use:\n",
      "  %reload_ext autoreload\n"
     ]
    },
    {
     "data": {
      "image/png": "[encoded data removed]",
      "text/plain": [
       "<Figure size 1123.61x284.278 with 1 Axes>"
      ]
     },
     "execution_count": 44,
     "metadata": {},
     "output_type": "execute_result"
    }
   ],
   "source": [
    "import qiskit\n",
    "import ansatz\n",
    "%load_ext autoreload\n",
    "%autoreload 2\n",
    "\n",
    "\n",
    "# Benchmark from quanvolutional1 to quanvolutional19\n",
    "num_qubits = 3\n",
    "qc = qiskit.QuantumCircuit(num_qubits) \n",
    "qc = ansatz.quanvolutional3(qc)\n",
    "qc.draw(output='mpl')\n",
    "qc_trans = qiskit.transpile(qc, basis_gates=['h', 's', 'cx', 'rx', 'ry', 'rz'], optimization_level=3)\n",
    "qc_trans.draw(output='mpl')"
   ]
  },
  {
   "cell_type": "code",
   "execution_count": 45,
   "metadata": {},
   "outputs": [
    {
     "data": {
      "text/plain": [
       "(-1+1.2246467991473532e-16j)"
      ]
     },
     "execution_count": 45,
     "metadata": {},
     "output_type": "execute_result"
    }
   ],
   "source": [
    "np.e**(1j*np.pi)"
   ]
  },
  {
   "cell_type": "code",
   "execution_count": null,
   "metadata": {},
   "outputs": [
    {
     "name": "stdout",
     "output_type": "stream",
     "text": [
      "[ 0.37408604-0.46805246j -0.15134454-0.10790417j  0.04041152+0.04006523j\n",
      " -0.07961138+0.0744405j  -0.49147317+0.47295087j  0.15485994+0.14418086j\n",
      " -0.08737094-0.09892484j  0.19566852-0.16005084j]\n",
      "[ 0.37408604-0.46805246j -0.15134454-0.10790417j  0.04041152+0.04006523j\n",
      " -0.07961138+0.0744405j  -0.49147317+0.47295087j  0.15485994+0.14418086j\n",
      " -0.08737094-0.09892484j  0.19566852-0.16005084j]\n"
     ]
    }
   ],
   "source": [
    "import qiskit.quantum_info\n",
    "\n",
    "import numpy as np\n",
    "phase = np.e**(1j*qc_trans.global_phase)\n",
    "if qc_trans.global_phase > np.pi:\n",
    "    phase *= -1\n",
    "\n",
    "# FROM ORIGINAL CIRCUITS\n",
    "print(qiskit.quantum_info.Statevector.from_instruction(qc).data)\n",
    "\n",
    "# THIS IS THE EXPECTED OUTPUT\n",
    "print(qiskit.quantum_info.Statevector.from_instruction(qc_trans).data/phase)"
   ]
  },
  {
   "cell_type": "code",
   "execution_count": null,
   "metadata": {},
   "outputs": [],
   "source": [
    "\n",
    "qc.draw(output='mpl')"
   ]
  },
  {
   "cell_type": "code",
   "execution_count": null,
   "metadata": {},
   "outputs": [],
   "source": [
    "# convert to readable files\n",
    "\n",
    "from qimax import converter, constant\n",
    "\n",
    "texts = []\n",
    "texts.append(len(qc.data))\n",
    "for gate in qc.data:\n",
    "    name = gate.name.upper()\n",
    "    params = None\n",
    "    wires = converter.get_wires_of_gate(gate)\n",
    "    if name == 'CX':\n",
    "        type = 2\n",
    "    else:\n",
    "        type = 1\n",
    "        gate_entries = constant.constant_gate[name]\n",
    "        if name in ['RX', 'RY', 'RZ']:\n",
    "            params = gate.params[0]\n",
    "            gate_entries = gate_entries(params)\n",
    "    texts.append(type)\n",
    "    if type == 2:\n",
    "        texts.append(wires[0])\n",
    "        texts.append(wires[1])\n",
    "    else:\n",
    "        texts.append(wires[0])\n",
    "        texts.append(gate_entries[0][0])\n",
    "        texts.append(gate_entries[0][1])\n",
    "        texts.append(gate_entries[1][0])\n",
    "        texts.append(gate_entries[1][1])\n",
    "\n",
    "with open('output.txt', 'w') as f:\n",
    "    for item in texts:\n",
    "        f.write(\"%s\\n\" % item)"
   ]
  },
  {
   "cell_type": "code",
   "execution_count": null,
   "metadata": {},
   "outputs": [
    {
     "name": "stdout",
     "output_type": "stream",
     "text": [
      "[-0.01927488+0.47331835j  0.54087456+0.10611312j -0.06770304-0.01672037j\n",
      "  0.01557706-0.49124734j  0.13963193+0.30374403j -0.21151439+0.0803382j\n",
      " -0.06255804+0.0214577j   0.13525991+0.1993585j ]\n"
     ]
    }
   ],
   "source": [
    "#  RESULT FROM QISKIT\n",
    "qc_qiskit = (qiskit.quantum_info.Statevector.from_instruction(qc).data)\n",
    "print(qc_qiskit)"
   ]
  },
  {
   "cell_type": "code",
   "execution_count": null,
   "metadata": {},
   "outputs": [],
   "source": [
    "# Calculate error\n",
    "\n",
    "import numpy as np\n",
    "\n",
    "def fidelity(state1: np.ndarray, state2: np.ndarray):\n",
    "    state1 = np.expand_dims(state1, axis=0)\n",
    "    state2 = np.expand_dims(state2, axis=0)\n",
    "    return (np.abs(np.inner(np.conjugate(state1), state2))**2)[0][0]\n",
    "\n",
    "\n",
    "def mse(state1: np.ndarray, state2: np.ndarray):\n",
    "    return np.mean(np.abs(state1 - state2)**2)\n",
    "\n",
    "qc_fpga = ?\n",
    "print(fidelity(qc_qiskit, qc_fpga))\n",
    "print(mse(qc_qiskit, qc_fpga))"
   ]
  }
 ],
 "metadata": {
  "kernelspec": {
   "display_name": "Python 3",
   "language": "python",
   "name": "python3"
  },
  "language_info": {
   "codemirror_mode": {
    "name": "ipython",
    "version": 3
   },
   "file_extension": ".py",
   "mimetype": "text/x-python",
   "name": "python",
   "nbconvert_exporter": "python",
   "pygments_lexer": "ipython3",
   "version": "3.10.11"
  }
 },
 "nbformat": 4,
 "nbformat_minor": 2
}
