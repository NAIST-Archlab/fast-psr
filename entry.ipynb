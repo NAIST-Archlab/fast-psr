{
 "cells": [
  {
   "cell_type": "code",
   "execution_count": 36,
   "metadata": {},
   "outputs": [
    {
     "name": "stdout",
     "output_type": "stream",
     "text": [
      "(32, 32)\n"
     ]
    }
   ],
   "source": [
    "import constant, tensor, gate, utilities\n",
    "import numpy as np, qiskit, re\n",
    "\n",
    "def qasm_to_qasmgates(qasm):\n",
    "    gates = qasm.split('\\n')[3:-1]\n",
    "    qasm_gates = []\n",
    "    for gate in gates:\n",
    "        gate = gate[:-1].split(' ')\n",
    "        # print(gate)\n",
    "        indices = re.findall(r'\\d+', gate[1])\n",
    "        indices = [int(index) for index in indices]\n",
    "        matches = re.match(r'([a-z]+)(\\(\\d+\\.\\d+\\))?', gate[0])\n",
    "        # Extract the function name and value from the matches\n",
    "        name = matches.group(1).upper()\n",
    "        if matches.group(2) is None:\n",
    "            param = 0\n",
    "        else:\n",
    "            param = float(matches.group(2)[1:-1])\n",
    "        qasm_gates.append((name, param, indices))\n",
    "    return qasm_gates\n",
    "\n",
    "def qasmgates_to_qcs(gates: list) -> list[qiskit.QuantumCircuit]: \n",
    "    qcs = []\n",
    "    sub_qc = []\n",
    "    counter = 0\n",
    "    active_2qubit = 0 # 0 mean dactive, 1 mean active, 2 mean break instruction\n",
    "    num_qubits = max(max(gates, key=lambda x: max(x[2]))[2]) + 1\n",
    "    print(num_qubits)\n",
    "    slots = np.zeros(num_qubits)\n",
    "    for name, param, indices in gates: \n",
    "        if len(indices) == 2:\n",
    "            active_2qubit += 1\n",
    "        \n",
    "        slots = utilities.update_slot(slots, indices)\n",
    "        if any(slot > 1 for slot in slots) or active_2qubit == 2:\n",
    "            qcs.append(sub_qc)\n",
    "            active_2qubit = 0\n",
    "            sub_qc = []\n",
    "            sub_qc.append((name, param, indices))\n",
    "            if len(indices) == 2:\n",
    "                active_2qubit += 1\n",
    "            slots = np.zeros(num_qubits)\n",
    "            slots = utilities.update_slot(slots, indices)\n",
    "            gates = gates[counter + 1:]\n",
    "            counter = 0\n",
    "        else:\n",
    "            sub_qc.append((name, param, indices))\n",
    "            counter += 1\n",
    "            if counter >= len(gates):\n",
    "                qcs.append(sub_qc)\n",
    "                return qcs\n",
    "    return qcs\n",
    "\n",
    "\n",
    "def qasmgates_to_gates(qasmgates: list[str]):\n",
    "    gates = []\n",
    "    for name, param, indices in qasmgates: \n",
    "        gates.append(gate.Gate(name, indices = indices, param = param))\n",
    "    return gates\n",
    "    \n",
    "def gates_to_string(gates: list[gate.Gate], num_qubits: int) -> np.ndarray:\n",
    "    \"\"\"Return the matrix representation of a circuit composed of a list of gates acting on `num_qubits` qubits.\n",
    "\n",
    "    Args:\n",
    "        gates (list[Gate]): List of gates in the circuit\n",
    "        num_qubits (int): # of qubits in the system\n",
    "\n",
    "    Returns:\n",
    "        np.ndarray: Matrix representation of the circuit\n",
    "    \"\"\"\n",
    "    # Example: {CNOT_1,3, RY_2(\\pi)} act on 5 qubits circuit\n",
    "    # Init tensor form as : I \\otimes I \\otimes ... \\otimes I (num_qubits otimes)\n",
    "    # and params form as [0, 0, ..., 0] (num_qubits times)\n",
    "    tensor_form = [['I'] * num_qubits]\n",
    "    params_form = [0] * num_qubits\n",
    "    # Update tensor form and params form based on gates\n",
    "    # => tensor_form = [['I', 'M', 'RY', 'I', 'I'], ['I', 'P', 'RY', 'X', 'I']]\n",
    "    # => params_form = [0, 0, np.pi, 0, 0]\n",
    "    for gate in gates:\n",
    "        if gate.param is not None:\n",
    "            if len(gate.indices) == 1:\n",
    "                params_form[gate.indices[0]] = gate.param\n",
    "            else:\n",
    "                params_form[gate.indices[1]] = gate.param\n",
    "        if len(gate.indices) == 1:\n",
    "            tensor_form[0][gate.indices[0]] = gate.name\n",
    "        else:\n",
    "            \n",
    "            tensor_form = utilities.duplicate_xss(tensor_form)\n",
    "            tensor_form[0][gate.indices[0]] = 'M' # P0\n",
    "            tensor_form[1][gate.indices[0]] = 'P' # P3\n",
    "            tensor_form[1][gate.indices[1]] = gate.name\n",
    "    \n",
    "    return params_form, tensor_form\n",
    "\n",
    "def string_to_matrix(params_form: np.ndarray, tensor_form: np.ndarray) -> np.ndarray:\n",
    "    \"\"\"Convert the tensor form and params form to the matrix representation of the circuit.\n",
    "\n",
    "    Args:\n",
    "        params_form (np.ndarray): lisr of parameters\n",
    "        tensor_form (np.ndarray): list of gates (only gate names, no parameters)\n",
    "\n",
    "    Returns:\n",
    "        np.ndarray: matrix representation of the circuit\n",
    "    \"\"\"\n",
    "    # Convert tensor form and params form to matrix\n",
    "    # => [['I', 'M', 'RY', 'I', 'I'], ['I', 'P', 'RY', 'X', 'I']]\n",
    "    # -> I \\otimes M \\otimes RY(np.pi) \\otimes I \\otimes I\n",
    "    #  + I \\otimes P \\otimes RY(np.pi) \\otimes X \\otimes I\n",
    "    matrices = [np.array([1])]*len(tensor_form)\n",
    "    for i in range(0, len(tensor_form[0])):\n",
    "        for j in range(len(tensor_form)):\n",
    "            #print(f'A{tensor_form[j][i]}')\n",
    "            if len(tensor_form[j][i]) >= 2:\n",
    "                matrices[j] = getattr(tensor, f'A{tensor_form[j][i]}')(matrices[j], params_form[i])\n",
    "            else:\n",
    "                matrices[j] = getattr(tensor, f'A{tensor_form[j][i]}')(matrices[j])\n",
    "    return sum(matrices)\n",
    "\n",
    "crx13 = gate.Gate('RX', indices = [1, 3], param = np.pi)\n",
    "ry2 = gate.Gate('RY', indices = 2, param = np.pi)\n",
    "params_form, tensor_form = gates_to_string([crx13, ry2], 5)\n",
    "matrix = string_to_matrix(params_form, tensor_form)\n",
    "print(matrix.shape)"
   ]
  },
  {
   "cell_type": "code",
   "execution_count": 35,
   "metadata": {},
   "outputs": [
    {
     "name": "stdout",
     "output_type": "stream",
     "text": [
      "The autoreload extension is already loaded. To reload it, use:\n",
      "  %reload_ext autoreload\n"
     ]
    }
   ],
   "source": [
    "import qiskit.quantum_info as qi\n",
    "import constant\n",
    "from qoop.core.random_circuit import generate_with_pool\n",
    "from qoop.core.gradient import grad_loss\n",
    "import splitter\n",
    "%load_ext autoreload\n",
    "%autoreload 2\n",
    "num_qubits = 5\n",
    "qc = generate_with_pool(num_qubits, 500)\n",
    "qc = qc.assign_parameters([1] * qc.num_parameters)\n",
    "state = qi.Statevector.from_instruction(qc)\n",
    "# grad_loss1 = grad_loss(qc, [1] * qc.num_parameters)\n",
    "# print(grad_loss1)"
   ]
  },
  {
   "cell_type": "code",
   "execution_count": 59,
   "metadata": {},
   "outputs": [],
   "source": [
    "from qoop.core import ansatz\n",
    "qc = ansatz.Walltoall_zxz(4, 200)\n",
    "qc = qc.assign_parameters([1] * qc.num_parameters)\n",
    "state = qi.Statevector.from_instruction(qc)"
   ]
  },
  {
   "cell_type": "code",
   "execution_count": 61,
   "metadata": {},
   "outputs": [
    {
     "name": "stderr",
     "output_type": "stream",
     "text": [
      "/var/folders/bw/2cm4rnhn0djgg95n4py1pysc0000gp/T/ipykernel_39285/3853086874.py:7: DeprecationWarning: The property ``qiskit.circuit.bit.Bit.index`` is deprecated as of qiskit-terra 0.17. It will be removed no earlier than 3 months after the release date. Instead, use :meth:`~qiskit.circuit.quantumcircuit.QuantumCircuit.find_bit` to find all the containing registers within a circuit and the index of the bit within the circuit.\n",
      "  qubit_indices = [q.index for q in qargs]\n"
     ]
    }
   ],
   "source": [
    "class U():\n",
    "    def __init__(self, params_form, tensor_form, index = 0):\n",
    "        self.params_form = params_form\n",
    "        self.tensor_form = tensor_form\n",
    "        self.matrix_form = None\n",
    "        self.index = index\n",
    "    def compare(self, us):\n",
    "        for u in us:\n",
    "            if self.params_form == u.params_form and self.tensor_form == u.tensor_form:\n",
    "                self.index = u.index\n",
    "                self.matrix_form = u.matrix_form\n",
    "                return True\n",
    "        return False\n",
    "    def to_matrix(self):\n",
    "        if self.matrix_form is None:\n",
    "            self.matrix_form = string_to_matrix(self.params_form, self.tensor_form)\n",
    "        return self.matrix_form\n",
    "\n",
    "matrices = []\n",
    "Us = []\n",
    "index = 0\n",
    "for sub_qc in qcs:\n",
    "    gates = circuit_to_gates(sub_qc)\n",
    "    params_form, tensor_form = gates_to_string(gates, num_qubits)\n",
    "    u = U(params_form, tensor_form, index)\n",
    "    if u.compare(Us) == False:\n",
    "        index += 1\n",
    "    Us.append(u)\n",
    "    # print(tensor_form)\n",
    "    matrices.append(u.to_matrix())\n",
    "result = matrices[0]\n",
    "for i in range(1, len(matrices)):\n",
    "    # print(matrices[i].shape)\n",
    "    result = result @ matrices[i]\n",
    "# return result\n",
    "# matrix = qimax(qc)\n",
    "test_state = result @ constant.state0(num_qubits)"
   ]
  },
  {
   "cell_type": "code",
   "execution_count": null,
   "metadata": {},
   "outputs": [
    {
     "name": "stdout",
     "output_type": "stream",
     "text": [
      "[ 0.21682799+0.j          0.        -0.11845367j  0.73899825+0.j\n",
      "  0.        -0.40371659j  0.        -0.07292851j -0.11357943+0.j\n",
      "  0.        -0.24855667j -0.38710408+0.j        ]\n"
     ]
    }
   ],
   "source": [
    "k1 = np.kron(np.kron(gate.gate['RX'](1), gate.gate['H']), gate.gate['RX'](1))\n",
    "k2 = np.kron(np.kron(constant.P(0), gate.gate['RY'](1)), gate.gate['I']) + np.kron(np.kron(constant.P(3), gate.gate['RY'](1)), gate.gate['RX'](1))\n",
    "print(k2 @ (k1 @ constant.state0(3)))"
   ]
  },
  {
   "cell_type": "code",
   "execution_count": null,
   "metadata": {},
   "outputs": [
    {
     "data": {
      "text/plain": [
       "array([ 0.21682799+0.j        ,  0.        -0.11845367j,\n",
       "        0.73899825+0.j        ,  0.        -0.40371659j,\n",
       "        0.        -0.10395288j, -0.05678972+0.j        ,\n",
       "        0.        -0.35429464j, -0.19355204+0.j        ])"
      ]
     },
     "execution_count": 284,
     "metadata": {},
     "output_type": "execute_result"
    }
   ],
   "source": [
    "matrices[1] @ (matrices[0] @ constant.state0(3))"
   ]
  },
  {
   "cell_type": "code",
   "execution_count": null,
   "metadata": {},
   "outputs": [
    {
     "data": {
      "text/plain": [
       "array([ 0.21682799+0.j        ,  0.        -0.07292851j,\n",
       "        0.73899825+0.j        ,  0.        -0.24855667j,\n",
       "        0.        -0.11845367j, -0.11357943+0.j        ,\n",
       "        0.        -0.40371659j, -0.38710408+0.j        ])"
      ]
     },
     "execution_count": 285,
     "metadata": {},
     "output_type": "execute_result"
    }
   ],
   "source": [
    "true_state"
   ]
  }
 ],
 "metadata": {
  "kernelspec": {
   "display_name": "Python 3",
   "language": "python",
   "name": "python3"
  },
  "language_info": {
   "codemirror_mode": {
    "name": "ipython",
    "version": 3
   },
   "file_extension": ".py",
   "mimetype": "text/x-python",
   "name": "python",
   "nbconvert_exporter": "python",
   "pygments_lexer": "ipython3",
   "version": "3.10.9"
  }
 },
 "nbformat": 4,
 "nbformat_minor": 2
}
