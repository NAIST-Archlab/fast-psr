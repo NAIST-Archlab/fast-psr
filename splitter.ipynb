{
 "cells": [
  {
   "cell_type": "code",
   "execution_count": 62,
   "metadata": {},
   "outputs": [
    {
     "name": "stdout",
     "output_type": "stream",
     "text": [
      "The autoreload extension is already loaded. To reload it, use:\n",
      "  %reload_ext autoreload\n",
      "OPENQASM 2.0;\n",
      "include \"qelib1.inc\";\n",
      "qreg q[10];\n",
      "crx(1.0) q[4],q[0];\n",
      "rx(1.0) q[1];\n",
      "crx(1.0) q[9],q[8];\n",
      "ry(1.0) q[7];\n",
      "cx q[6],q[2];\n",
      "cx q[5],q[3];\n",
      "ry(1.0) q[7];\n",
      "h q[8];\n",
      "crz(1.0) q[3],q[1];\n",
      "ry(1.0) q[2];\n",
      "rz(1.0) q[4];\n",
      "cx q[5],q[9];\n",
      "crz(1.0) q[0],q[6];\n",
      "rz(1.0) q[7];\n",
      "rx(1.0) q[5];\n",
      "rx(1.0) q[4];\n",
      "ry(1.0) q[2];\n",
      "rx(1.0) q[0];\n",
      "crz(1.0) q[3],q[1];\n",
      "crx(1.0) q[9],q[6];\n",
      "h q[8];\n",
      "h q[1];\n",
      "ry(1.0) q[6];\n",
      "ry(1.0) q[3];\n",
      "rz(1.0) q[2];\n",
      "cry(1.0) q[0],q[9];\n",
      "h q[7];\n",
      "cx q[5],q[8];\n",
      "rx(1.0) q[4];\n",
      "ry(1.0) q[9];\n",
      "h q[7];\n",
      "h q[5];\n",
      "rx(1.0) q[0];\n",
      "h q[2];\n",
      "ry(1.0) q[8];\n",
      "rx(1.0) q[6];\n",
      "crz(1.0) q[1],q[4];\n",
      "rz(1.0) q[3];\n",
      "\n"
     ]
    }
   ],
   "source": [
    "import qiskit.quantum_info as qi\n",
    "import constant\n",
    "from qoop.core.random_circuit import generate_with_pool\n",
    "from qoop.core.gradient import grad_loss\n",
    "import splitter, utilities\n",
    "%load_ext autoreload\n",
    "%autoreload 2\n",
    "num_qubits = 10\n",
    "qc = generate_with_pool(num_qubits, 5)\n",
    "qc = qc.assign_parameters([1] * qc.num_parameters)\n",
    "qc_qasm = (qc.qasm())\n",
    "print(qc_qasm)"
   ]
  },
  {
   "cell_type": "code",
   "execution_count": 63,
   "metadata": {},
   "outputs": [
    {
     "name": "stdout",
     "output_type": "stream",
     "text": [
      "[('CRX', 1.0, [4, 0]), ('RX', 1.0, [1]), ('CRX', 1.0, [9, 8]), ('RY', 1.0, [7]), ('CX', 0, [6, 2]), ('CX', 0, [5, 3]), ('RY', 1.0, [7]), ('H', 0, [8]), ('CRZ', 1.0, [3, 1]), ('RY', 1.0, [2]), ('RZ', 1.0, [4]), ('CX', 0, [5, 9]), ('CRZ', 1.0, [0, 6]), ('RZ', 1.0, [7]), ('RX', 1.0, [5]), ('RX', 1.0, [4]), ('RY', 1.0, [2]), ('RX', 1.0, [0]), ('CRZ', 1.0, [3, 1]), ('CRX', 1.0, [9, 6]), ('H', 0, [8]), ('H', 0, [1]), ('RY', 1.0, [6]), ('RY', 1.0, [3]), ('RZ', 1.0, [2]), ('CRY', 1.0, [0, 9]), ('H', 0, [7]), ('CX', 0, [5, 8]), ('RX', 1.0, [4]), ('RY', 1.0, [9]), ('H', 0, [7]), ('H', 0, [5]), ('RX', 1.0, [0]), ('H', 0, [2]), ('RY', 1.0, [8]), ('RX', 1.0, [6]), ('CRZ', 1.0, [1, 4]), ('RZ', 1.0, [3])]\n",
      "10\n",
      "[('CRX', 1.0, [4, 0]), ('RX', 1.0, [1])]\n",
      "[('CRX', 1.0, [9, 8]), ('RY', 1.0, [7])]\n",
      "[('CX', 0, [6, 2])]\n",
      "[('CX', 0, [5, 3]), ('RY', 1.0, [7]), ('H', 0, [8])]\n",
      "[('CRZ', 1.0, [3, 1]), ('RY', 1.0, [2]), ('RZ', 1.0, [4])]\n",
      "[('CX', 0, [5, 9])]\n",
      "[('CRZ', 1.0, [0, 6]), ('RZ', 1.0, [7]), ('RX', 1.0, [5]), ('RX', 1.0, [4]), ('RY', 1.0, [2])]\n",
      "[('RX', 1.0, [0]), ('CRZ', 1.0, [3, 1])]\n",
      "[('CRX', 1.0, [9, 6]), ('H', 0, [8]), ('H', 0, [1])]\n",
      "[('RY', 1.0, [6]), ('RY', 1.0, [3]), ('RZ', 1.0, [2]), ('CRY', 1.0, [0, 9]), ('H', 0, [7])]\n",
      "[('CX', 0, [5, 8]), ('RX', 1.0, [4]), ('RY', 1.0, [9]), ('H', 0, [7])]\n",
      "[('H', 0, [5]), ('RX', 1.0, [0]), ('H', 0, [2]), ('RY', 1.0, [8]), ('RX', 1.0, [6]), ('CRZ', 1.0, [1, 4]), ('RZ', 1.0, [3])]\n"
     ]
    }
   ],
   "source": [
    "import qiskit\n",
    "import numpy as np, re\n",
    "\n",
    "def qasm_to_qasmgates(qc_qasm):\n",
    "    gates = qc_qasm.split('\\n')[3:-1]\n",
    "    qasm_gates = []\n",
    "    for gate in gates:\n",
    "        gate = gate[:-1].split(' ')\n",
    "        # print(gate)\n",
    "        indices = re.findall(r'\\d+', gate[1])\n",
    "        indices = [int(index) for index in indices]\n",
    "        matches = re.match(r'([a-z]+)(\\(\\d+\\.\\d+\\))?', gate[0])\n",
    "        # Extract the function name and value from the matches\n",
    "        name = matches.group(1).upper()\n",
    "        if matches.group(2) is None:\n",
    "            param = 0\n",
    "        else:\n",
    "            param = float(matches.group(2)[1:-1])\n",
    "        qasm_gates.append((name, param, indices))\n",
    "    return qasm_gates\n",
    "\n",
    "def qasmgates_to_qcs(gates: list) -> list[qiskit.QuantumCircuit]: \n",
    "    qcs = []\n",
    "    sub_qc = []\n",
    "    counter = 0\n",
    "    active_2qubit = 0 # 0 mean dactive, 1 mean active, 2 mean break instruction\n",
    "    num_qubits = max(max(gates, key=lambda x: max(x[2]))[2]) + 1\n",
    "    print(num_qubits)\n",
    "    slots = np.zeros(num_qubits)\n",
    "    for name, param, indices in gates: \n",
    "        if len(indices) == 2:\n",
    "            active_2qubit += 1\n",
    "        \n",
    "        slots = utilities.update_slot(slots, indices)\n",
    "        if any(slot > 1 for slot in slots) or active_2qubit == 2:\n",
    "            qcs.append(sub_qc)\n",
    "            active_2qubit = 0\n",
    "            sub_qc = []\n",
    "            sub_qc.append((name, param, indices))\n",
    "            if len(indices) == 2:\n",
    "                active_2qubit += 1\n",
    "            slots = np.zeros(num_qubits)\n",
    "            slots = utilities.update_slot(slots, indices)\n",
    "            gates = gates[counter + 1:]\n",
    "            counter = 0\n",
    "        else:\n",
    "            sub_qc.append((name, param, indices))\n",
    "            counter += 1\n",
    "            if counter >= len(gates):\n",
    "                qcs.append(sub_qc)\n",
    "                return qcs\n",
    "    return qcs\n",
    "\n",
    "qasm_gates = qasm_to_qasmgates(qc_qasm)\n",
    "print(qasm_gates)\n",
    "qcs = qasmgates_to_qcs(qasm_gates)\n",
    "for qcss in qcs:\n",
    "    print(qcss)"
   ]
  },
  {
   "cell_type": "code",
   "execution_count": 60,
   "metadata": {},
   "outputs": [
    {
     "name": "stdout",
     "output_type": "stream",
     "text": [
      "5\n"
     ]
    }
   ],
   "source": [
    "A = [('CRX', 1.0, [4, 1]), ('CX', 0, [3, 5]), ('H', 0, [2])]\n",
    "\n",
    "max_value = max(max(A, key=lambda x: max(x[2]))[2])\n",
    ")"
   ]
  },
  {
   "cell_type": "code",
   "execution_count": 54,
   "metadata": {},
   "outputs": [
    {
     "name": "stderr",
     "output_type": "stream",
     "text": [
      "/Library/Frameworks/Python.framework/Versions/3.10/lib/python3.10/site-packages/qiskit/visualization/circuit/matplotlib.py:266: FutureWarning: The default matplotlib drawer scheme will be changed to \"iqp\" in a following release. To silence this warning, specify the current default explicitly as style=\"clifford\", or the new default as style=\"iqp\".\n",
      "  self._style, def_font_ratio = load_style(self._style)\n"
     ]
    },
    {
     "data": {
      "image/png": "[encoded data removed]",
      "text/plain": [
       "<Figure size 872.774x535.111 with 1 Axes>"
      ]
     },
     "execution_count": 54,
     "metadata": {},
     "output_type": "execute_result"
    }
   ],
   "source": [
    "qc.draw('mpl')"
   ]
  },
  {
   "cell_type": "code",
   "execution_count": 33,
   "metadata": {},
   "outputs": [],
   "source": [
    "import qiskit, numpy as np\n",
    "\n",
    "\n",
    "\n",
    "\n",
    "\n",
    "\n",
    "\n"
   ]
  }
 ],
 "metadata": {
  "kernelspec": {
   "display_name": "Python 3",
   "language": "python",
   "name": "python3"
  },
  "language_info": {
   "codemirror_mode": {
    "name": "ipython",
    "version": 3
   },
   "file_extension": ".py",
   "mimetype": "text/x-python",
   "name": "python",
   "nbconvert_exporter": "python",
   "pygments_lexer": "ipython3",
   "version": "3.10.9"
  }
 },
 "nbformat": 4,
 "nbformat_minor": 2
}
