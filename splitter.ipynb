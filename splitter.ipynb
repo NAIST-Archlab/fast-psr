{
 "cells": [
  {
   "cell_type": "code",
   "execution_count": 6,
   "metadata": {},
   "outputs": [
    {
     "name": "stdout",
     "output_type": "stream",
     "text": [
      "The autoreload extension is already loaded. To reload it, use:\n",
      "  %reload_ext autoreload\n",
      "OPENQASM 2.0;\n",
      "include \"qelib1.inc\";\n",
      "qreg q[5];\n",
      "ry(1.0) q[0];\n",
      "rx(1.0) q[1];\n",
      "crz(1.0) q[3],q[4];\n",
      "h q[2];\n",
      "crx(1.0) q[0],q[2];\n",
      "rx(1.0) q[3];\n",
      "crz(1.0) q[4],q[1];\n",
      "ry(1.0) q[1];\n",
      "cx q[4],q[3];\n",
      "ry(1.0) q[2];\n",
      "h q[0];\n",
      "ry(1.0) q[2];\n",
      "h q[4];\n",
      "h q[3];\n",
      "h q[0];\n",
      "ry(1.0) q[1];\n",
      "rx(1.0) q[0];\n",
      "cry(1.0) q[1],q[2];\n",
      "rz(1.0) q[3];\n",
      "rz(1.0) q[4];\n",
      "\n"
     ]
    }
   ],
   "source": [
    "import qiskit.quantum_info as qi\n",
    "import qimax.constant as constant\n",
    "from qoop.core.random_circuit import generate_with_pool\n",
    "from qoop.core.gradient import grad_loss\n",
    "import qimax.splitter, qimax.utilities\n",
    "%load_ext autoreload\n",
    "%autoreload 2\n",
    "num_qubits = 5\n",
    "qc = generate_with_pool(num_qubits, 5)\n",
    "qc = qc.assign_parameters([1] * qc.num_parameters)\n",
    "qc_qasm = (qc.qasm())\n",
    "print(qc_qasm)"
   ]
  },
  {
   "cell_type": "code",
   "execution_count": 9,
   "metadata": {},
   "outputs": [
    {
     "name": "stdout",
     "output_type": "stream",
     "text": [
      "5\n",
      "[('RY', 1.0, [0])]\n",
      "[('RX', 1.0, [1])]\n",
      "[('CRZ', 1.0, [3, 4]), ('H', -999, [2])]\n",
      "[('CRX', 1.0, [0, 2])]\n",
      "[('RX', 1.0, [3])]\n",
      "[('CRZ', 1.0, [4, 1])]\n",
      "[('RY', 1.0, [1]), ('CX', -999, [4, 3])]\n",
      "[('RY', 1.0, [2]), ('H', -999, [0])]\n",
      "[('RY', 1.0, [2]), ('H', -999, [4]), ('H', -999, [3]), ('H', -999, [0])]\n",
      "[('RY', 1.0, [1])]\n",
      "[('RX', 1.0, [0])]\n",
      "[('CRY', 1.0, [1, 2])]\n",
      "[('RZ', 1.0, [3])]\n"
     ]
    }
   ],
   "source": [
    "import qiskit\n",
    "import numpy as np, re\n",
    "import qimax.splitter\n",
    "qasm_gates = qimax.splitter.qasm_to_qasmgates(qc_qasm)\n",
    "qcs = qimax.splitter.qasmgates_to_qcs2(qasm_gates)\n",
    "for qcss in qcs:\n",
    "    print(qcss)"
   ]
  },
  {
   "cell_type": "code",
   "execution_count": 10,
   "metadata": {},
   "outputs": [
    {
     "name": "stderr",
     "output_type": "stream",
     "text": [
      "/Library/Frameworks/Python.framework/Versions/3.10/lib/python3.10/site-packages/qiskit/visualization/circuit/matplotlib.py:266: FutureWarning: The default matplotlib drawer scheme will be changed to \"iqp\" in a following release. To silence this warning, specify the current default explicitly as style=\"clifford\", or the new default as style=\"iqp\".\n",
      "  self._style, def_font_ratio = load_style(self._style)\n"
     ]
    },
    {
     "data": {
      "image/png": "[encoded data removed]",
      "text/plain": [
       "<Figure size 621.941x451.5 with 1 Axes>"
      ]
     },
     "execution_count": 10,
     "metadata": {},
     "output_type": "execute_result"
    }
   ],
   "source": [
    "qc.draw('mpl')"
   ]
  },
  {
   "cell_type": "code",
   "execution_count": 33,
   "metadata": {},
   "outputs": [],
   "source": [
    "import qiskit, numpy as np\n",
    "\n",
    "\n",
    "\n",
    "\n",
    "\n",
    "\n",
    "\n"
   ]
  }
 ],
 "metadata": {
  "kernelspec": {
   "display_name": "Python 3",
   "language": "python",
   "name": "python3"
  },
  "language_info": {
   "codemirror_mode": {
    "name": "ipython",
    "version": 3
   },
   "file_extension": ".py",
   "mimetype": "text/x-python",
   "name": "python",
   "nbconvert_exporter": "python",
   "pygments_lexer": "ipython3",
   "version": "3.10.9"
  }
 },
 "nbformat": 4,
 "nbformat_minor": 2
}
