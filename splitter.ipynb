{
 "cells": [
  {
   "cell_type": "code",
   "execution_count": 108,
   "metadata": {},
   "outputs": [
    {
     "name": "stdout",
     "output_type": "stream",
     "text": [
      "The autoreload extension is already loaded. To reload it, use:\n",
      "  %reload_ext autoreload\n"
     ]
    }
   ],
   "source": [
    "import qiskit.quantum_info as qi\n",
    "import constant\n",
    "from qoop.core.random_circuit import generate_with_pool\n",
    "from qoop.core.gradient import grad_loss\n",
    "import splitter, utilities\n",
    "%load_ext autoreload\n",
    "%autoreload 2\n",
    "num_qubits = 10\n",
    "qc = generate_with_pool(num_qubits, 500)\n",
    "qc = qc.assign_parameters([1] * qc.num_parameters)\n",
    "# print(qc.draw())"
   ]
  },
  {
   "cell_type": "code",
   "execution_count": 92,
   "metadata": {},
   "outputs": [],
   "source": [
    "import qiskit, numpy as np\n",
    "def split_control2(qc: qiskit.QuantumCircuit) -> list[qiskit.QuantumCircuit]: \n",
    "    qcs = []\n",
    "    sub_qc = qiskit.QuantumCircuit(qc.num_qubits)\n",
    "    counter = 0\n",
    "    active_2qubit = 0 # 0 mean dactive, 1 mean active, 2 mean break instruction\n",
    "    slots = np.zeros(qc.num_qubits)\n",
    "    for _, qargs, _ in qc.data: \n",
    "        indices = utilities.get_qubit_indices(qargs)\n",
    "        if len(indices) == 2:\n",
    "            active_2qubit += 1\n",
    "        \n",
    "        slots = utilities.update_slot(slots, indices)\n",
    "        if any(slot > 1 for slot in slots) or active_2qubit == 2:\n",
    "            qcs.append(sub_qc)\n",
    "            active_2qubit = 0\n",
    "            sub_qc = qiskit.QuantumCircuit(qc.num_qubits)\n",
    "            sub_qc.append(qc[counter][0], qc[counter][1])\n",
    "            if len(indices) == 2:\n",
    "                active_2qubit += 1\n",
    "            slots = np.zeros(qc.num_qubits)\n",
    "            slots = utilities.update_slot(slots, utilities.get_qubit_indices(qargs))\n",
    "            qc.data = qc.data[counter + 1:]\n",
    "            counter = 0\n",
    "        else:\n",
    "            sub_qc.append(qc[counter][0], qc[counter][1])\n",
    "            counter += 1\n",
    "            if counter >= len(qc.data):\n",
    "                qcs.append(sub_qc)\n",
    "                return qcs\n",
    "    return qcs\n"
   ]
  },
  {
   "cell_type": "code",
   "execution_count": 111,
   "metadata": {},
   "outputs": [],
   "source": [
    "qc = ansatz.Walltoall_zxz(4, 200)\n",
    "qc = qc.assign_parameters([1] * qc.num_parameters)"
   ]
  },
  {
   "cell_type": "code",
   "execution_count": 112,
   "metadata": {},
   "outputs": [],
   "source": [
    "qcs = split_control2(qc.copy())"
   ]
  },
  {
   "cell_type": "code",
   "execution_count": 113,
   "metadata": {},
   "outputs": [],
   "source": [
    "qcs1 = splitter.split_control(qc.copy())"
   ]
  },
  {
   "cell_type": "code",
   "execution_count": 107,
   "metadata": {},
   "outputs": [
    {
     "data": {
      "text/plain": [
       "True"
      ]
     },
     "execution_count": 107,
     "metadata": {},
     "output_type": "execute_result"
    }
   ],
   "source": [
    "len(qcs1) == len(qcs)"
   ]
  }
 ],
 "metadata": {
  "kernelspec": {
   "display_name": "Python 3",
   "language": "python",
   "name": "python3"
  },
  "language_info": {
   "codemirror_mode": {
    "name": "ipython",
    "version": 3
   },
   "file_extension": ".py",
   "mimetype": "text/x-python",
   "name": "python",
   "nbconvert_exporter": "python",
   "pygments_lexer": "ipython3",
   "version": "3.10.9"
  }
 },
 "nbformat": 4,
 "nbformat_minor": 2
}
