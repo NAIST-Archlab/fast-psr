{
 "cells": [
  {
   "cell_type": "code",
   "execution_count": 1,
   "metadata": {},
   "outputs": [],
   "source": [
    "import numpy as np\n",
    "import sys\n",
    "sys.path.append('..')\n",
    "from custom_lib import quantum_circuit_ctx_generator, utils, verilog, fixed_point_handler"
   ]
  },
  {
   "cell_type": "code",
   "execution_count": null,
   "metadata": {},
   "outputs": [],
   "source": [
    "min_qbit_num = 3\n",
    "max_qbit_num = 17\n",
    "min_quanv = 1\n",
    "max_quanv = 19\n",
    "\n",
    "quanv_range = np.arange(min_quanv, max_quanv+1, 1)\n",
    "qubit_num_range = np.arange(min_qbit_num, max_qbit_num+1, 1)\n",
    "\n",
    "num_mem_state_quanv = np.zeros((len(qubit_num_range), len(quanv_range)))\n",
    "num_mem_gate_quanv = np.zeros((len(qubit_num_range), len(quanv_range)))\n",
    "\n",
    "for i, qubit_num in enumerate(qubit_num_range):\n",
    "    for j, quanv_num in enumerate(quanv_range):\n",
    "        num_mem_state_quanv[i,j] = 2**qubit_num * (64/8) # Bytes\n",
    "\n",
    "        tmp_file = utils.read_file(file_name=f'../hardware/gate_ctx_for_sim/quantum_circuit_data_{qubit_num}_qubits/output_hex_{qubit_num}_qubits_quanvolutional_{quanv_num}.txt')\n",
    "        tmp_file_len = len(tmp_file)\n",
    "        num_mem_gate_quanv[i,j] = tmp_file_len * (64/8) + 4 * 4 * (64/8) # Bytes\n",
    "\n",
    "num_mem_state_qft = np.zeros(len(qubit_num_range))\n",
    "num_mem_gate_qft = np.zeros(len(qubit_num_range))\n",
    "\n",
    "for i, qubit_num in enumerate(qubit_num_range):\n",
    "    num_mem_state_qft[i,j] = 2**qubit_num * (64/8) # Bytes\n",
    "\n",
    "    tmp_file = utils.read_file(file_name=f'../hardware/gate_ctx_for_sim/QFT/quantum_circuit_data_{qubit_num}_qubits/output_hex_QFT_{qubit_num}_qubits.txt')\n",
    "    tmp_file_len = len(tmp_file)\n",
    "    num_mem_gate_qft[i,j] = tmp_file_len * (64/8) + 4* 4 * (64/8) # Bytes"
   ]
  }
 ],
 "metadata": {
  "kernelspec": {
   "display_name": "Python 3",
   "language": "python",
   "name": "python3"
  },
  "language_info": {
   "codemirror_mode": {
    "name": "ipython",
    "version": 3
   },
   "file_extension": ".py",
   "mimetype": "text/x-python",
   "name": "python",
   "nbconvert_exporter": "python",
   "pygments_lexer": "ipython3",
   "version": "3.13.1"
  }
 },
 "nbformat": 4,
 "nbformat_minor": 2
}
