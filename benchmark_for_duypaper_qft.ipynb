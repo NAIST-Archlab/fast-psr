{
 "cells": [
  {
   "cell_type": "code",
   "execution_count": 18,
   "metadata": {},
   "outputs": [
    {
     "name": "stdout",
     "output_type": "stream",
     "text": [
      "The autoreload extension is already loaded. To reload it, use:\n",
      "  %reload_ext autoreload\n",
      "[0.1767767+0.j 0.1767767+0.j 0.1767767+0.j 0.1767767+0.j 0.1767767+0.j\n",
      " 0.1767767+0.j 0.1767767+0.j 0.1767767+0.j 0.1767767+0.j 0.1767767+0.j\n",
      " 0.1767767+0.j 0.1767767+0.j 0.1767767+0.j 0.1767767+0.j 0.1767767+0.j\n",
      " 0.1767767+0.j 0.1767767+0.j 0.1767767+0.j 0.1767767+0.j 0.1767767+0.j\n",
      " 0.1767767+0.j 0.1767767+0.j 0.1767767+0.j 0.1767767+0.j 0.1767767+0.j\n",
      " 0.1767767+0.j 0.1767767+0.j 0.1767767+0.j 0.1767767+0.j 0.1767767+0.j\n",
      " 0.1767767+0.j 0.1767767+0.j]\n"
     ]
    }
   ],
   "source": [
    "import qiskit\n",
    "import qiskit.quantum_info\n",
    "import ansatz\n",
    "import numpy as np\n",
    "%load_ext autoreload\n",
    "%autoreload 2\n",
    "\n",
    "def qft_Qiskit(num_qubits):\n",
    "\n",
    "    \"\"\"QFT on the first n qubits in circuit\"\"\"\n",
    "    def qft_rotations_Qiskit(qc: qiskit.QuantumCircuit, num_qubits):\n",
    "        \"\"\"Performs qft on the first n qubits in circuit (without swaps)\"\"\"\n",
    "        if num_qubits == 0:\n",
    "            return qc\n",
    "        num_qubits -= 1\n",
    "        qc.h(num_qubits)\n",
    "        for j in range(num_qubits):\n",
    "            \n",
    "            # qc.rz(np.pi/2**(num_qubits-j) / 2, num_qubits)\n",
    "            # qc.cx(j, num_qubits)\n",
    "            # qc.rz(-np.pi/2**(num_qubits-j) / 2, num_qubits)\n",
    "            # qc.cx(j, num_qubits)\n",
    "            # qc.rz(+np.pi/2**(num_qubits-j) / 2, num_qubits)\n",
    "            \n",
    "            qc.cp(np.pi/2**(num_qubits-j), j, num_qubits)\n",
    "            # qc.barrier()\n",
    "        qft_rotations_Qiskit(qc, num_qubits)\n",
    "    def swap_registers_Qiskit(qc: qiskit.QuantumCircuit, num_qubits):\n",
    "        for j in range(num_qubits//2):\n",
    "            qc.cx(j, num_qubits-j-1)\n",
    "            qc.cx(num_qubits-j-1, j)\n",
    "            qc.cx(j, num_qubits-j-1)\n",
    "            # qc.barrier()\n",
    "        return qc\n",
    "    qc = qiskit.QuantumCircuit(num_qubits)\n",
    "    qft_rotations_Qiskit(qc, num_qubits)\n",
    "    swap_registers_Qiskit(qc, num_qubits)\n",
    "    return qc\n",
    "\n",
    "\n",
    "qc = qft_Qiskit(5)\n",
    "print(qiskit.quantum_info.Statevector.from_instruction(qc).data)"
   ]
  },
  {
   "cell_type": "code",
   "execution_count": 22,
   "metadata": {},
   "outputs": [
    {
     "name": "stdout",
     "output_type": "stream",
     "text": [
      "[0.1767767+1.38777878e-17j 0.1767767+1.38777878e-17j\n",
      " 0.1767767+1.04083409e-16j 0.1767767+5.55111512e-17j\n",
      " 0.1767767+1.38777878e-17j 0.1767767+1.38777878e-17j\n",
      " 0.1767767+6.93889390e-17j 0.1767767+6.93889390e-17j\n",
      " 0.1767767+6.93889390e-18j 0.1767767+6.93889390e-18j\n",
      " 0.1767767+9.02056208e-17j 0.1767767+6.24500451e-17j\n",
      " 0.1767767+6.93889390e-18j 0.1767767+6.93889390e-18j\n",
      " 0.1767767+4.85722573e-17j 0.1767767+4.85722573e-17j\n",
      " 0.1767767+1.38777878e-17j 0.1767767+1.38777878e-17j\n",
      " 0.1767767+1.04083409e-16j 0.1767767+5.55111512e-17j\n",
      " 0.1767767+1.38777878e-17j 0.1767767+1.38777878e-17j\n",
      " 0.1767767+6.93889390e-17j 0.1767767+6.93889390e-17j\n",
      " 0.1767767+6.93889390e-18j 0.1767767+6.93889390e-18j\n",
      " 0.1767767+9.02056208e-17j 0.1767767+6.24500451e-17j\n",
      " 0.1767767+6.93889390e-18j 0.1767767+6.93889390e-18j\n",
      " 0.1767767+4.85722573e-17j 0.1767767+4.85722573e-17j]\n"
     ]
    }
   ],
   "source": [
    "qc_trans = qiskit.transpile(qc, basis_gates=['h', 's', 'cx', 'rx', 'ry', 'rz'])\n",
    "qc_trans.draw(output='mpl')\n",
    "print(qiskit.quantum_info.Statevector.from_instruction(qc_trans).data)"
   ]
  }
 ],
 "metadata": {
  "kernelspec": {
   "display_name": "Python 3",
   "language": "python",
   "name": "python3"
  },
  "language_info": {
   "codemirror_mode": {
    "name": "ipython",
    "version": 3
   },
   "file_extension": ".py",
   "mimetype": "text/x-python",
   "name": "python",
   "nbconvert_exporter": "python",
   "pygments_lexer": "ipython3",
   "version": "3.10.11"
  }
 },
 "nbformat": 4,
 "nbformat_minor": 2
}
