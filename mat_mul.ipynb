{
 "cells": [
  {
   "cell_type": "code",
   "execution_count": 2,
   "metadata": {},
   "outputs": [
    {
     "name": "stdout",
     "output_type": "stream",
     "text": [
      "State sampler gradient computed with parameter shift [[{0: 0.35355339059327373, 1: -0.35355339059327373}, {0: 0.0, 1: 0.0}]]\n"
     ]
    }
   ],
   "source": [
    "from qiskit.primitives import Sampler\n",
    "from qiskit_algorithms.gradients import ParamShiftSamplerGradient\n",
    "import numpy as np\n",
    "from qiskit.primitives import Estimator\n",
    "from qiskit_algorithms.gradients import ParamShiftEstimatorGradient\n",
    "from qiskit.circuit import QuantumCircuit, QuantumRegister, Parameter\n",
    "from qiskit.quantum_info import SparsePauliOp\n",
    "# Define the estimator\n",
    "estimator = Estimator()\n",
    "# Define the gradient\n",
    "gradient = ParamShiftEstimatorGradient(estimator)\n",
    "\n",
    "# Instantiate the quantum state with two parameters\n",
    "a = Parameter(\"a\")\n",
    "b = Parameter(\"b\")\n",
    "\n",
    "q = QuantumRegister(1)\n",
    "qc_sample = QuantumCircuit(q)\n",
    "qc_sample.h(q)\n",
    "qc_sample.rz(a, q[0])\n",
    "qc_sample.rx(b, q[0])\n",
    "qc_sample.measure_all()  # important for sampler\n",
    "\n",
    "qc_sample.draw(\"mpl\")\n",
    "\n",
    "param_vals = [[np.pi / 4, np.pi / 2]]\n",
    "sampler = Sampler()\n",
    "gradient = ParamShiftSamplerGradient(sampler)\n",
    "pss_grad_result = gradient.run(qc_sample, param_vals).result().gradients\n",
    "print(\"State sampler gradient computed with parameter shift\", pss_grad_result)"
   ]
  }
 ],
 "metadata": {
  "kernelspec": {
   "display_name": "Python 3",
   "language": "python",
   "name": "python3"
  },
  "language_info": {
   "codemirror_mode": {
    "name": "ipython",
    "version": 3
   },
   "file_extension": ".py",
   "mimetype": "text/x-python",
   "name": "python",
   "nbconvert_exporter": "python",
   "pygments_lexer": "ipython3",
   "version": "3.10.9"
  }
 },
 "nbformat": 4,
 "nbformat_minor": 2
}
