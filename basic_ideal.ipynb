{
 "cells": [
  {
   "cell_type": "markdown",
   "metadata": {},
   "source": [
    "Target\n",
    "- Fast quantum evaluation for parameterized circuit\n",
    "- \n",
    "\n",
    "Technique:\n",
    "- Parameterized matrix form?\n",
    "- Gate fusion (cache + step-forward predict)\n",
    "- Present qubits as merkle-tree"
   ]
  },
  {
   "cell_type": "code",
   "execution_count": null,
   "metadata": {},
   "outputs": [],
   "source": []
  },
  {
   "cell_type": "code",
   "execution_count": 1,
   "metadata": {},
   "outputs": [],
   "source": [
    "from qiskit import QuantumCircuit\n",
    "\n",
    "qc = QuantumCircuit(2, name='bell')\n",
    "qc.h(0)\n",
    "qc.cx(0, 1)\n",
    "custom_gate = qc.to_instruction()\n",
    "\n",
    "new_circ = QuantumCircuit(2)"
   ]
  },
  {
   "cell_type": "code",
   "execution_count": 2,
   "metadata": {},
   "outputs": [
    {
     "name": "stdout",
     "output_type": "stream",
     "text": [
      "OPENQASM 2.0;\n",
      "include \"qelib1.inc\";\n",
      "gate bell q0,q1 { h q0; cx q0,q1; }\n",
      "qreg q[2];\n",
      "h q[0];\n",
      "cx q[0],q[1];\n",
      "ry(0.5) q[1];\n",
      "bell q[0],q[1];\n",
      "\n"
     ]
    }
   ],
   "source": [
    "import numpy as np\n",
    "import matplotlib.pyplot as plt\n",
    "import math\n",
    "import qiskit\n",
    "import qiskit.quantum_info as qi\n",
    "%load_ext autoreload\n",
    "%autoreload 2\n",
    "qc = qiskit.QuantumCircuit(2)\n",
    "qc.h(0)\n",
    "qc.cx(0, 1)\n",
    "qc.ry(0.5, 1)\n",
    "qc.append(custom_gate, [0, 1])\n",
    "print(qc.qasm())"
   ]
  },
  {
   "cell_type": "code",
   "execution_count": 3,
   "metadata": {},
   "outputs": [],
   "source": [
    "class Gate:\n",
    "    def __init__(self, matrix, name) -> None:\n",
    "        self.matrix = matrix\n",
    "        self.name = name\n",
    "    def get_num_qbits(self):\n",
    "        return int(math.log2(len(self.matrix)))\n",
    "    def __mul__(self, gate):\n",
    "        return Gate(np.kron(self.matrix, gate.matrix), self.name + gate.name)\n",
    "        \n",
    "\n",
    "class Qubit:\n",
    "    def __init__(self, state = [1, 0]) -> None:\n",
    "        self.state = state\n",
    "        self.gates = []\n",
    "    def evol(self):\n",
    "        self.state = self.gates.pop[0].matrix @ self.state\n",
    "    def evol_all(self): \n",
    "        while self.gates != []:\n",
    "            self.evol()\n",
    "class Qutem:\n",
    "    def __init__(self, qubits) -> None:\n",
    "        self.qubits = qubits\n",
    "        self.state = np.zeros(2**len(qubits))\n",
    "        self.state[0] = 1\n",
    "        self.size = 2\n",
    "    def fuse(self):\n",
    "        for i in range(self.size - 1):\n",
    "            self.state = np.kron(self.qubits[i].state, self.qubits[i + 1].state)"
   ]
  },
  {
   "cell_type": "code",
   "execution_count": 4,
   "metadata": {},
   "outputs": [
    {
     "data": {
      "text/latex": [
       "$\\displaystyle \\left[\\begin{matrix}\\sin^{8}{\\left(\\frac{\\theta}{2} \\right)} - 28 \\sin^{6}{\\left(\\frac{\\theta}{2} \\right)} \\cos^{2}{\\left(\\frac{\\theta}{2} \\right)} + 70 \\sin^{4}{\\left(\\frac{\\theta}{2} \\right)} \\cos^{4}{\\left(\\frac{\\theta}{2} \\right)} - 28 \\sin^{2}{\\left(\\frac{\\theta}{2} \\right)} \\cos^{6}{\\left(\\frac{\\theta}{2} \\right)} + \\cos^{8}{\\left(\\frac{\\theta}{2} \\right)} & 8 i \\sin^{7}{\\left(\\frac{\\theta}{2} \\right)} \\cos{\\left(\\frac{\\theta}{2} \\right)} - 56 i \\sin^{5}{\\left(\\frac{\\theta}{2} \\right)} \\cos^{3}{\\left(\\frac{\\theta}{2} \\right)} + 56 i \\sin^{3}{\\left(\\frac{\\theta}{2} \\right)} \\cos^{5}{\\left(\\frac{\\theta}{2} \\right)} - 8 i \\sin{\\left(\\frac{\\theta}{2} \\right)} \\cos^{7}{\\left(\\frac{\\theta}{2} \\right)}\\\\8 i \\sin^{7}{\\left(\\frac{\\theta}{2} \\right)} \\cos{\\left(\\frac{\\theta}{2} \\right)} - 56 i \\sin^{5}{\\left(\\frac{\\theta}{2} \\right)} \\cos^{3}{\\left(\\frac{\\theta}{2} \\right)} + 56 i \\sin^{3}{\\left(\\frac{\\theta}{2} \\right)} \\cos^{5}{\\left(\\frac{\\theta}{2} \\right)} - 8 i \\sin{\\left(\\frac{\\theta}{2} \\right)} \\cos^{7}{\\left(\\frac{\\theta}{2} \\right)} & \\sin^{8}{\\left(\\frac{\\theta}{2} \\right)} - 28 \\sin^{6}{\\left(\\frac{\\theta}{2} \\right)} \\cos^{2}{\\left(\\frac{\\theta}{2} \\right)} + 70 \\sin^{4}{\\left(\\frac{\\theta}{2} \\right)} \\cos^{4}{\\left(\\frac{\\theta}{2} \\right)} - 28 \\sin^{2}{\\left(\\frac{\\theta}{2} \\right)} \\cos^{6}{\\left(\\frac{\\theta}{2} \\right)} + \\cos^{8}{\\left(\\frac{\\theta}{2} \\right)}\\end{matrix}\\right]$"
      ],
      "text/plain": [
       "Matrix([\n",
       "[ sin(theta/2)**8 - 28*sin(theta/2)**6*cos(theta/2)**2 + 70*sin(theta/2)**4*cos(theta/2)**4 - 28*sin(theta/2)**2*cos(theta/2)**6 + cos(theta/2)**8, 8*I*sin(theta/2)**7*cos(theta/2) - 56*I*sin(theta/2)**5*cos(theta/2)**3 + 56*I*sin(theta/2)**3*cos(theta/2)**5 - 8*I*sin(theta/2)*cos(theta/2)**7],\n",
       "[8*I*sin(theta/2)**7*cos(theta/2) - 56*I*sin(theta/2)**5*cos(theta/2)**3 + 56*I*sin(theta/2)**3*cos(theta/2)**5 - 8*I*sin(theta/2)*cos(theta/2)**7,  sin(theta/2)**8 - 28*sin(theta/2)**6*cos(theta/2)**2 + 70*sin(theta/2)**4*cos(theta/2)**4 - 28*sin(theta/2)**2*cos(theta/2)**6 + cos(theta/2)**8]])"
      ]
     },
     "execution_count": 4,
     "metadata": {},
     "output_type": "execute_result"
    }
   ],
   "source": [
    "import sympy as sp\n",
    "\n",
    "# Define the symbolic variable\n",
    "theta = sp.symbols('theta')\n",
    "\n",
    "# Define the X matrix\n",
    "X = sp.Matrix([\n",
    "    [0, 1], \n",
    "    [1, 0]\n",
    "])\n",
    "\n",
    "# Define the Rx matrix with symbolic expressions\n",
    "Rx = sp.Matrix([\n",
    "    [sp.cos(theta/2), -sp.I*sp.sin(theta/2)],\n",
    "    [-sp.I*sp.sin(theta/2), sp.cos(theta/2)]\n",
    "])\n",
    "\n",
    "# Compute the product Rx @ X symbolically\n",
    "Rx_X = (Rx * X * Rx * X)**4\n",
    "\n",
    "# Display the result in symbolic form\n",
    "Rx_X\n"
   ]
  },
  {
   "cell_type": "code",
   "execution_count": 16,
   "metadata": {},
   "outputs": [],
   "source": [
    "import gate\n",
    "\n",
    "for thetas in np.linspace(0, 0.5, 10000):\n",
    "    a = (gate.gate['Rx'](thetas) @ gate.gate['X'])\n",
    "    #print(a)"
   ]
  },
  {
   "cell_type": "code",
   "execution_count": 17,
   "metadata": {},
   "outputs": [
    {
     "name": "stdout",
     "output_type": "stream",
     "text": [
      "Matrix([[-I*sin(theta/2), cos(theta/2)], [cos(theta/2), -I*sin(theta/2)]])\n"
     ]
    }
   ],
   "source": [
    "import sympy\n",
    "a = (Rx @ X)\n",
    "f = sympy.lambdify(theta, a, \"numpy\")\n",
    "print(a)"
   ]
  },
  {
   "cell_type": "code",
   "execution_count": 18,
   "metadata": {},
   "outputs": [],
   "source": [
    "for thetas in np.linspace(0, 0.5, 100000):\n",
    "    # Rx_X_evaluated = Rx_X.subs(theta, thetas).evalf()\n",
    "    f(thetas)"
   ]
  }
 ],
 "metadata": {
  "kernelspec": {
   "display_name": "Python 3",
   "language": "python",
   "name": "python3"
  },
  "language_info": {
   "codemirror_mode": {
    "name": "ipython",
    "version": 3
   },
   "file_extension": ".py",
   "mimetype": "text/x-python",
   "name": "python",
   "nbconvert_exporter": "python",
   "pygments_lexer": "ipython3",
   "version": "3.10.11"
  }
 },
 "nbformat": 4,
 "nbformat_minor": 2
}
