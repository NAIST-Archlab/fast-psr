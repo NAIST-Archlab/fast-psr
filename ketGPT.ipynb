{
 "cells": [
  {
   "cell_type": "code",
   "execution_count": 13,
   "metadata": {},
   "outputs": [],
   "source": [
    "from qiskit import qasm2\n",
    "\n",
    "# qc = qasm2.load('ketGPT/ketGPT0.txt')\n",
    "# qc.draw(output='mpl')\n",
    "for i in range(72):\n",
    "    with open(f'ketGPT/ketGPT{i}.txt', 'r') as file:\n",
    "        contents = file.read()\n",
    "\n",
    "        lines = contents.splitlines()\n",
    "        filtered_lines = [line for line in lines if 'unitary' not in line and not line.strip().startswith('gate unitary')]\n",
    "        filtered_s = '\\n'.join(filtered_lines)\n",
    "    with open(f'ketGPT/ketGPT{i}.txt', 'w') as file:\n",
    "        file.write(filtered_s)\n"
   ]
  },
  {
   "cell_type": "code",
   "execution_count": 25,
   "metadata": {},
   "outputs": [
    {
     "ename": "FileNotFoundError",
     "evalue": "/Users/vutuanhai/Documents/GitHub/qimax/ketGPT/ketGPT72.txt",
     "output_type": "error",
     "traceback": [
      "\u001b[0;31m---------------------------------------------------------------------------\u001b[0m",
      "\u001b[0;31mFileNotFoundError\u001b[0m                         Traceback (most recent call last)",
      "Cell \u001b[0;32mIn[25], line 15\u001b[0m\n\u001b[1;32m     13\u001b[0m     \u001b[38;5;28;01mreturn\u001b[39;00m transpiled_qc\n\u001b[1;32m     14\u001b[0m \u001b[38;5;28;01mfor\u001b[39;00m i \u001b[38;5;129;01min\u001b[39;00m \u001b[38;5;28mrange\u001b[39m(\u001b[38;5;241m78\u001b[39m):\n\u001b[0;32m---> 15\u001b[0m     qc \u001b[38;5;241m=\u001b[39m \u001b[43mqasm2\u001b[49m\u001b[38;5;241;43m.\u001b[39;49m\u001b[43mload\u001b[49m\u001b[43m(\u001b[49m\u001b[38;5;124;43mf\u001b[39;49m\u001b[38;5;124;43m'\u001b[39;49m\u001b[38;5;124;43mketGPT/ketGPT\u001b[39;49m\u001b[38;5;132;43;01m{\u001b[39;49;00m\u001b[43mi\u001b[49m\u001b[38;5;132;43;01m}\u001b[39;49;00m\u001b[38;5;124;43m.txt\u001b[39;49m\u001b[38;5;124;43m'\u001b[39;49m\u001b[43m)\u001b[49m\n\u001b[1;32m     16\u001b[0m     qc_transplied \u001b[38;5;241m=\u001b[39m transiple(qc)\n\u001b[1;32m     17\u001b[0m     \u001b[38;5;28;01mfrom\u001b[39;00m \u001b[38;5;21;01mqimax\u001b[39;00m\u001b[38;5;21;01m.\u001b[39;00m\u001b[38;5;21;01mconverter\u001b[39;00m \u001b[38;5;28;01mimport\u001b[39;00m qc_to_qasm\n",
      "File \u001b[0;32m/Library/Frameworks/Python.framework/Versions/3.10/lib/python3.10/site-packages/qiskit/qasm2/__init__.py:644\u001b[0m, in \u001b[0;36mload\u001b[0;34m(filename, include_path, include_input_directory, custom_instructions, custom_classical, strict)\u001b[0m\n\u001b[1;32m    637\u001b[0m     \u001b[38;5;28;01mraise\u001b[39;00m \u001b[38;5;167;01mValueError\u001b[39;00m(\n\u001b[1;32m    638\u001b[0m         \u001b[38;5;124mf\u001b[39m\u001b[38;5;124m\"\u001b[39m\u001b[38;5;124munknown value for include_input_directory: \u001b[39m\u001b[38;5;124m'\u001b[39m\u001b[38;5;132;01m{\u001b[39;00minclude_input_directory\u001b[38;5;132;01m}\u001b[39;00m\u001b[38;5;124m'\u001b[39m\u001b[38;5;124m.\u001b[39m\u001b[38;5;124m\"\u001b[39m\n\u001b[1;32m    639\u001b[0m         \u001b[38;5;124m\"\u001b[39m\u001b[38;5;124m Valid values are \u001b[39m\u001b[38;5;124m'\u001b[39m\u001b[38;5;130;01m\\\"\u001b[39;00m\u001b[38;5;124mappend\u001b[39m\u001b[38;5;130;01m\\\"\u001b[39;00m\u001b[38;5;124m'\u001b[39m\u001b[38;5;124m, \u001b[39m\u001b[38;5;124m'\u001b[39m\u001b[38;5;130;01m\\\"\u001b[39;00m\u001b[38;5;124mprepend\u001b[39m\u001b[38;5;130;01m\\\"\u001b[39;00m\u001b[38;5;124m'\u001b[39m\u001b[38;5;124m and \u001b[39m\u001b[38;5;124m'\u001b[39m\u001b[38;5;124mNone\u001b[39m\u001b[38;5;124m'\u001b[39m\u001b[38;5;124m.\u001b[39m\u001b[38;5;124m\"\u001b[39m\n\u001b[1;32m    640\u001b[0m     )\n\u001b[1;32m    641\u001b[0m custom_instructions \u001b[38;5;241m=\u001b[39m \u001b[38;5;28mtuple\u001b[39m(custom_instructions)\n\u001b[1;32m    642\u001b[0m \u001b[38;5;28;01mreturn\u001b[39;00m _parse\u001b[38;5;241m.\u001b[39mfrom_bytecode(\n\u001b[1;32m    643\u001b[0m     _qasm2\u001b[38;5;241m.\u001b[39mbytecode_from_file(\n\u001b[0;32m--> 644\u001b[0m         \u001b[43m_normalize_path\u001b[49m\u001b[43m(\u001b[49m\u001b[43mfilename\u001b[49m\u001b[43m)\u001b[49m,\n\u001b[1;32m    645\u001b[0m         include_path,\n\u001b[1;32m    646\u001b[0m         [\n\u001b[1;32m    647\u001b[0m             _qasm2\u001b[38;5;241m.\u001b[39mCustomInstruction(x\u001b[38;5;241m.\u001b[39mname, x\u001b[38;5;241m.\u001b[39mnum_params, x\u001b[38;5;241m.\u001b[39mnum_qubits, x\u001b[38;5;241m.\u001b[39mbuiltin)\n\u001b[1;32m    648\u001b[0m             \u001b[38;5;28;01mfor\u001b[39;00m x \u001b[38;5;129;01min\u001b[39;00m custom_instructions\n\u001b[1;32m    649\u001b[0m         ],\n\u001b[1;32m    650\u001b[0m         \u001b[38;5;28mtuple\u001b[39m(custom_classical),\n\u001b[1;32m    651\u001b[0m         strict,\n\u001b[1;32m    652\u001b[0m     ),\n\u001b[1;32m    653\u001b[0m     custom_instructions,\n\u001b[1;32m    654\u001b[0m )\n",
      "File \u001b[0;32m/Library/Frameworks/Python.framework/Versions/3.10/lib/python3.10/site-packages/qiskit/qasm2/__init__.py:559\u001b[0m, in \u001b[0;36m_normalize_path\u001b[0;34m(path)\u001b[0m\n\u001b[1;32m    557\u001b[0m path \u001b[38;5;241m=\u001b[39m Path(path)\u001b[38;5;241m.\u001b[39mexpanduser()\u001b[38;5;241m.\u001b[39mabsolute()\n\u001b[1;32m    558\u001b[0m \u001b[38;5;28;01mif\u001b[39;00m \u001b[38;5;129;01mnot\u001b[39;00m path\u001b[38;5;241m.\u001b[39mexists():\n\u001b[0;32m--> 559\u001b[0m     \u001b[38;5;28;01mraise\u001b[39;00m \u001b[38;5;167;01mFileNotFoundError\u001b[39;00m(\u001b[38;5;28mstr\u001b[39m(path))\n\u001b[1;32m    560\u001b[0m \u001b[38;5;28;01mreturn\u001b[39;00m \u001b[38;5;28mstr\u001b[39m(path)\n",
      "\u001b[0;31mFileNotFoundError\u001b[0m: /Users/vutuanhai/Documents/GitHub/qimax/ketGPT/ketGPT72.txt"
     ]
    }
   ],
   "source": [
    "def transiple(qc):\n",
    "    from qiskit import QuantumCircuit, ClassicalRegister, transpile\n",
    "    from qiskit.providers import basicaer\n",
    "\n",
    "    # Define backend with custom basis gates and control flow instructions\n",
    "    from qiskit.providers.basic_provider import BasicProvider\n",
    " \n",
    "    backend = BasicProvider().get_backend('basic_simulator')\n",
    "    transpiled_qc = transpile(qc, backend, basis_gates=[\n",
    "        'id', 'h', 'x', 'y', 'z', \n",
    "        'rx', 'ry', 'rz',\n",
    "        'cx', 'crx', 'cry', 'crz'], optimization_level = 2)\n",
    "    return transpiled_qc\n",
    "for i in range(78):\n",
    "    qc = qasm2.load(f'ketGPT/ketGPT{i}.txt')\n",
    "    qc_transplied = transiple(qc)\n",
    "    from qimax.converter import qc_to_qasm\n",
    "    \n",
    "    qasm = qc_to_qasm(qc_transplied)\n",
    "    with open(f\"TranspiledketGPT/circuit_{i}.txt\", \"w\") as text_file:\n",
    "        text_file.write(qasm)"
   ]
  },
  {
   "cell_type": "code",
   "execution_count": 10,
   "metadata": {},
   "outputs": [
    {
     "name": "stdout",
     "output_type": "stream",
     "text": [
      "\n",
      "cx q[0],q[1];\n",
      "cx q[0],q[1];\n",
      "cx q[0],q[1];\n",
      "cx q[0],q[1];\n"
     ]
    }
   ],
   "source": [
    "# Assuming the string is stored in the variable `s`\n",
    "s = \"\"\"\n",
    "gate unitary q[0],q[1];\n",
    "cx q[0],q[1];\n",
    "cx q[0],q[1];\n",
    "cx q[0],q[1];\n",
    "cx q[0],q[1];\n",
    "measure q[0] -> c[0];\n",
    "measure q[1] -> c[1];\n",
    "measure q[2] -> c[2];\n",
    "\"\"\"\n",
    "\n",
    "lines = s.splitlines()\n",
    "filtered_lines = [line for line in lines if 'measure' not in line and not line.strip().startswith('gate unitary')]\n",
    "filtered_s = '\\n'.join(filtered_lines)\n",
    "print(filtered_s)"
   ]
  }
 ],
 "metadata": {
  "kernelspec": {
   "display_name": "Python 3",
   "language": "python",
   "name": "python3"
  },
  "language_info": {
   "codemirror_mode": {
    "name": "ipython",
    "version": 3
   },
   "file_extension": ".py",
   "mimetype": "text/x-python",
   "name": "python",
   "nbconvert_exporter": "python",
   "pygments_lexer": "ipython3",
   "version": "3.10.9"
  }
 },
 "nbformat": 4,
 "nbformat_minor": 2
}
