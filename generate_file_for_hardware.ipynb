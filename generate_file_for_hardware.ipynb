{
 "cells": [
  {
   "cell_type": "code",
   "execution_count": 18,
   "metadata": {},
   "outputs": [
    {
     "name": "stdout",
     "output_type": "stream",
     "text": [
      "rz(0.3) q[0];\n",
      "cx q[0],q[1];\n",
      "h q[2];\n",
      "h q[0];\n",
      "rx(0.5) q[1];\n",
      "h q[2];\n",
      "xxxx\n",
      "[('RZ', 0.3, [0])]\n",
      "xxxx\n",
      "[('X', -999, [0, 1]), ('H', -999, [2])]\n",
      "xxxx\n",
      "[('H', -999, [0]), ('RX', 0.5, [1]), ('H', -999, [2])]\n"
     ]
    }
   ],
   "source": [
    "import numpy as np\n",
    "\n",
    "gate = {\n",
    "    \"I\": np.array([[1, 0], [0, 1]], dtype=np.complex128),\n",
    "    \"RX\": lambda theta: np.array(\n",
    "        [\n",
    "            [np.cos(theta / 2), -1j * np.sin(theta / 2)],\n",
    "            [-1j * np.sin(theta / 2), np.cos(theta / 2)],\n",
    "        ],\n",
    "        dtype=np.complex128,\n",
    "    ),\n",
    "    \"RY\": lambda theta: np.array(\n",
    "        [\n",
    "            [np.cos(theta / 2), -np.sin(theta / 2)],\n",
    "            [np.sin(theta / 2), np.cos(theta / 2)],\n",
    "        ],\n",
    "        dtype=np.complex128,\n",
    "    ),\n",
    "    \"RZ\": lambda theta: np.array(\n",
    "        [[np.exp(-1j * theta / 2), 0], [0, np.exp(1j * theta / 2)]], dtype=np.complex128\n",
    "    ),\n",
    "    \"H\": np.array([[1, 1], [1, -1]], dtype=np.complex128) / np.sqrt(2)\n",
    "}\n",
    "\n",
    "import qiskit\n",
    "\n",
    "num_qubits = 3\n",
    "qc = qiskit.QuantumCircuit(num_qubits)\n",
    "qc.rz(0.3, 0)\n",
    "qc.cx(0, 1)\n",
    "qc.h(2)\n",
    "qc.h(0)\n",
    "qc.rx(0.5, 1)\n",
    "qc.h(2)\n",
    "qc.cx(0, 1)\n",
    "from qimax import converter, circuit, splitter\n",
    "num_qubits = qc.num_qubits\n",
    "matrices = []\n",
    "Us: list[circuit.U] = []\n",
    "Usm = [] # [U_{0:m-1}, U_{1:m-1}, ... U_{m-1:m-1}]\n",
    "index = 0\n",
    "qasm_gates = converter.qasm_to_qasmgates(converter.qc_to_qasm(qc))\n",
    "qcs = splitter.qasmgates_to_qcs2(qasm_gates)\n",
    "for qc in qcs:\n",
    "    print('xxxx')\n",
    "    print(qc)"
   ]
  },
  {
   "cell_type": "code",
   "execution_count": 20,
   "metadata": {},
   "outputs": [
    {
     "name": "stdout",
     "output_type": "stream",
     "text": [
      "RZ\n",
      "X\n",
      "H\n",
      "H\n",
      "RX\n",
      "H\n"
     ]
    }
   ],
   "source": [
    "strs = []\n",
    "strs.append(str(len(qcs)))\n",
    "for qc in qcs:\n",
    "    # Consider a U include n gates\n",
    "    for gate1 in qc:\n",
    "        print(gate1[0])\n",
    "        if gate1[0] in ['I', 'RZ']:\n",
    "            # Sparse\n",
    "            if gate1[0] in ['I']:\n",
    "                gate_data = [0, gate1[2][0], (gate[gate1[0]][0][0]), (gate[gate1[0]][1][1])]\n",
    "            if gate1[0] in ['RZ']:\n",
    "                param = gate1[1]\n",
    "                gate_data = [0, gate1[2][0], gate[gate1[0]](param)[0][0], gate[gate1[0]](param)[1][1]]\n",
    "        if gate1[0] in ['RX', 'RY', 'H']:\n",
    "            # Dense\n",
    "            if gate1[0] in ['RX', 'RY']:\n",
    "                param = gate1[1]\n",
    "                gate_data = [1, gate1[2][0], gate[gate1[0]](param)[0][0] + gate[gate1[0]](param)[0][1],\n",
    "                         gate[gate1[0]](param)[1][0] + gate[gate1[0]](param)[1][1]]\n",
    "            if gate1[0] in ['H']:\n",
    "                gate_data = [1, gate1[2][0], gate[gate1[0]][0][0] + gate[gate1[0]][0][1],\n",
    "                         gate[gate1[0]][1][0] + gate[gate1[0]][1][1]]\n",
    "        if gate1[0] in ['X']:\n",
    "            gate_data = [2, str(gate1[2][0]), (gate1[2][1])]\n",
    "        for i in range(len(gate_data)):\n",
    "            strs.append(gate_data[i])\n",
    "\n",
    "\n",
    "with open('output.txt', 'w') as f:\n",
    "    for item in strs:\n",
    "        f.write(\"%s\\n\" % item)"
   ]
  },
  {
   "cell_type": "code",
   "execution_count": null,
   "metadata": {},
   "outputs": [],
   "source": [
    "lst = [1, 1]lst = [1, 1]lst = [1, 1]"
   ]
  }
 ],
 "metadata": {
  "kernelspec": {
   "display_name": "Python 3",
   "language": "python",
   "name": "python3"
  },
  "language_info": {
   "codemirror_mode": {
    "name": "ipython",
    "version": 3
   },
   "file_extension": ".py",
   "mimetype": "text/x-python",
   "name": "python",
   "nbconvert_exporter": "python",
   "pygments_lexer": "ipython3",
   "version": "3.11.5"
  }
 },
 "nbformat": 4,
 "nbformat_minor": 2
}
