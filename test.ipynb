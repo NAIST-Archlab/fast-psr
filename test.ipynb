{
 "cells": [
  {
   "cell_type": "code",
   "execution_count": 25,
   "metadata": {},
   "outputs": [
    {
     "name": "stdout",
     "output_type": "stream",
     "text": [
      "('H', -999, [0])\n",
      "('X', -999, [1, 2])\n",
      "[-999, -999, -999]\n",
      "[['H', 'M', 'I'], ['H', 'P', 'X']]\n",
      "[[ 0.70710678+0.j  0.        +0.j  0.        +0.j  0.        +0.j\n",
      "   0.70710678+0.j  0.        +0.j  0.        +0.j  0.        +0.j]\n",
      " [ 0.        +0.j  0.70710678+0.j  0.        +0.j  0.        +0.j\n",
      "   0.        +0.j  0.70710678+0.j  0.        +0.j  0.        +0.j]\n",
      " [ 0.        +0.j  0.        +0.j  0.        +0.j  0.70710678+0.j\n",
      "   0.        +0.j  0.        +0.j  0.        +0.j  0.70710678+0.j]\n",
      " [ 0.        +0.j  0.        +0.j  0.70710678+0.j  0.        +0.j\n",
      "   0.        +0.j  0.        +0.j  0.70710678+0.j  0.        +0.j]\n",
      " [ 0.70710678+0.j  0.        +0.j  0.        +0.j  0.        +0.j\n",
      "  -0.70710678+0.j  0.        +0.j  0.        +0.j  0.        +0.j]\n",
      " [ 0.        +0.j  0.70710678+0.j  0.        +0.j  0.        +0.j\n",
      "   0.        +0.j -0.70710678+0.j  0.        +0.j  0.        +0.j]\n",
      " [ 0.        +0.j  0.        +0.j  0.        +0.j  0.70710678+0.j\n",
      "   0.        +0.j  0.        +0.j  0.        +0.j -0.70710678+0.j]\n",
      " [ 0.        +0.j  0.        +0.j  0.70710678+0.j  0.        +0.j\n",
      "   0.        +0.j  0.        +0.j -0.70710678+0.j  0.        +0.j]]\n"
     ]
    }
   ],
   "source": [
    "from qimax import converter\n",
    "import qiskit\n",
    "\n",
    "# qc = qiskit.QuantumCircuit(5)\n",
    "# qc.cx(1, 3)\n",
    "# qc.h(0)\n",
    "# qc.ry(0.5, 2)\n",
    "\n",
    "num_qubits = 3\n",
    "qc = qiskit.QuantumCircuit(num_qubits)\n",
    "qc.h(0)\n",
    "qc.cx(1,2)\n",
    "# Function to map QASM gates to desired tuples\n",
    "def map_gate_to_tuple(gate):\n",
    "    indices = [qarg._index for qarg in gate.qubits]\n",
    "    name = gate.name\n",
    "    if name in ['p', 'cp', 'rx', 'ry', 'rz', 'crx', 'cry', 'crz']:\n",
    "        params = gate.params[0]\n",
    "    else:\n",
    "        params = -999\n",
    "    \n",
    "    if name[0] == 'c':\n",
    "        name = name[1:]\n",
    "    print((name.upper(), params, indices))\n",
    "    return (name.upper(), params, indices)\n",
    "\n",
    "# Convert the gates in the circuit to the desired format\n",
    "gates = [map_gate_to_tuple(gate) for gate in qc.data]\n",
    "gates = converter.qasmgates_to_gates(gates)\n",
    "params, strings = converter.gates_to_string(gates, num_qubits)\n",
    "\n",
    "matrix = converter.string_to_matrix(params, strings)\n",
    "print(matrix)"
   ]
  }
 ],
 "metadata": {
  "kernelspec": {
   "display_name": "Python 3",
   "language": "python",
   "name": "python3"
  },
  "language_info": {
   "codemirror_mode": {
    "name": "ipython",
    "version": 3
   },
   "file_extension": ".py",
   "mimetype": "text/x-python",
   "name": "python",
   "nbconvert_exporter": "python",
   "pygments_lexer": "ipython3",
   "version": "3.10.11"
  }
 },
 "nbformat": 4,
 "nbformat_minor": 2
}
