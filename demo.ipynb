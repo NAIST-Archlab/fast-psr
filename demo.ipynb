{
 "cells": [
  {
   "cell_type": "code",
   "execution_count": 5,
   "metadata": {},
   "outputs": [
    {
     "data": {
      "image/png": "[encoded data removed]",
      "text/plain": [
       "<Figure size 621.941x284.278 with 1 Axes>"
      ]
     },
     "execution_count": 5,
     "metadata": {},
     "output_type": "execute_result"
    }
   ],
   "source": [
    "from qoop.core.random_circuit import generate_with_pool\n",
    "\n",
    "qc = generate_with_pool(3, 5)\n",
    "qc = qc.assign_parameters([1] * qc.num_parameters)\n",
    "qc.draw('mpl')"
   ]
  },
  {
   "cell_type": "code",
   "execution_count": 11,
   "metadata": {},
   "outputs": [],
   "source": [
    "from qimax import converter, circuit, splitter\n",
    "num_qubits = qc.num_qubits\n",
    "matrices = []\n",
    "Us: list[circuit.U] = []\n",
    "Usm = [] # [U_{0:m-1}, U_{1:m-1}, ... U_{m-1:m-1}]\n",
    "index = 0\n",
    "qasm_gates = converter.qasm_to_qasmgates(converter.qc_to_qasm(qc))\n",
    "qcs = splitter.qasmgates_to_qcs2(qasm_gates)\n",
    "#qcs.reverse() \n",
    "for qasmgates in qcs:\n",
    "    gates = converter.qasmgates_to_gates(qasmgates)\n",
    "    params_form, tensor_form = converter.gates_to_string(gates, num_qubits)\n",
    "    u = circuit.U(params_form, tensor_form, index)\n",
    "    if u.compare(Us) == False:\n",
    "        index += 1\n",
    "        u.to_matrix()\n",
    "    Us.append(u)\n",
    "    "
   ]
  },
  {
   "cell_type": "code",
   "execution_count": 12,
   "metadata": {},
   "outputs": [
    {
     "name": "stdout",
     "output_type": "stream",
     "text": [
      "[[0.87758255+0.j         0.        +0.j         0.        -0.47942555j\n",
      "  0.        +0.j         0.        +0.j         0.        +0.j\n",
      "  0.        +0.j         0.        +0.j        ]\n",
      " [0.        +0.j         0.87758255+0.j         0.        +0.j\n",
      "  0.        -0.47942555j 0.        +0.j         0.        +0.j\n",
      "  0.        +0.j         0.        +0.j        ]\n",
      " [0.        -0.47942555j 0.        +0.j         0.87758255+0.j\n",
      "  0.        +0.j         0.        +0.j         0.        +0.j\n",
      "  0.        +0.j         0.        +0.j        ]\n",
      " [0.        +0.j         0.        -0.47942555j 0.        +0.j\n",
      "  0.87758255+0.j         0.        +0.j         0.        +0.j\n",
      "  0.        +0.j         0.        +0.j        ]\n",
      " [0.        +0.j         0.        +0.j         0.        +0.j\n",
      "  0.        +0.j         0.        +0.j         0.87758255+0.j\n",
      "  0.        +0.j         0.        -0.47942555j]\n",
      " [0.        +0.j         0.        +0.j         0.        +0.j\n",
      "  0.        +0.j         0.87758255+0.j         0.        +0.j\n",
      "  0.        -0.47942555j 0.        +0.j        ]\n",
      " [0.        +0.j         0.        +0.j         0.        +0.j\n",
      "  0.        +0.j         0.        +0.j         0.        -0.47942555j\n",
      "  0.        +0.j         0.87758255+0.j        ]\n",
      " [0.        +0.j         0.        +0.j         0.        +0.j\n",
      "  0.        +0.j         0.        -0.47942555j 0.        +0.j\n",
      "  0.87758255+0.j         0.        +0.j        ]]\n",
      "(8, 8)\n"
     ]
    }
   ],
   "source": [
    "U = Us[0].to_matrix() # => Accelarate this function\n",
    "print(U)\n",
    "print(U.shape)"
   ]
  }
 ],
 "metadata": {
  "kernelspec": {
   "display_name": "Python 3",
   "language": "python",
   "name": "python3"
  },
  "language_info": {
   "codemirror_mode": {
    "name": "ipython",
    "version": 3
   },
   "file_extension": ".py",
   "mimetype": "text/x-python",
   "name": "python",
   "nbconvert_exporter": "python",
   "pygments_lexer": "ipython3",
   "version": "3.9.6"
  }
 },
 "nbformat": 4,
 "nbformat_minor": 2
}
