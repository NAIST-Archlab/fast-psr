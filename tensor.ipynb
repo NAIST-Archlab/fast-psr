{
 "cells": [
  {
   "cell_type": "code",
   "execution_count": 1,
   "metadata": {},
   "outputs": [
    {
     "name": "stdout",
     "output_type": "stream",
     "text": [
      "[0.70710678+0.j 0.        +0.j 0.        +0.j 0.70710678+0.j]\n"
     ]
    }
   ],
   "source": [
    "import gate\n",
    "import numpy as np\n",
    "%load_ext autoreload\n",
    "%autoreload 2\n",
    "init = [1, 0, 0, 0]\n",
    "print(gate.gate2['CX'] @ (np.kron(gate.gate1['H'],gate.gate1['I']) @ init))"
   ]
  },
  {
   "cell_type": "code",
   "execution_count": 10,
   "metadata": {},
   "outputs": [],
   "source": [
    "for i in range(0, 10):\n",
    "    k = np.kron(gate.gate1['I'],gate.gate1['H'])\n"
   ]
  },
  {
   "cell_type": "code",
   "execution_count": null,
   "metadata": {},
   "outputs": [],
   "source": [
    "for i in range(0, 1000000):\n",
    "    k = gate.gate2['IH']"
   ]
  },
  {
   "cell_type": "code",
   "execution_count": 27,
   "metadata": {},
   "outputs": [],
   "source": [
    "def kron_A_I(A, N):\n",
    "    out = np.zeros((N*N, N*N),dtype=A.dtype)\n",
    "    for i in range(N):\n",
    "        for j in range(N):\n",
    "            value = A[i,j]\n",
    "            out[i*2: i*2 + 2,j*2:j*2 + 2] = np.array([[value, 0], [0, value]])\n",
    "    return out"
   ]
  },
  {
   "cell_type": "code",
   "execution_count": 68,
   "metadata": {},
   "outputs": [
    {
     "name": "stdout",
     "output_type": "stream",
     "text": [
      "[[0.08438087 0.41107181 0.04538587 0.95188399]\n",
      " [0.1705832  0.77136947 0.69109793 0.58784028]\n",
      " [0.29480806 0.77784422 0.59064393 0.70858758]\n",
      " [0.11067381 0.13596001 0.74064147 0.29661303]]\n"
     ]
    }
   ],
   "source": [
    "A = np.random.rand(4, 4)\n",
    "print(A)"
   ]
  },
  {
   "cell_type": "code",
   "execution_count": 3,
   "metadata": {},
   "outputs": [
    {
     "name": "stdout",
     "output_type": "stream",
     "text": [
      "[[0.         0.34270731 0.         0.84177329 0.         0.58071937]\n",
      " [0.34270731 0.         0.84177329 0.         0.58071937 0.        ]\n",
      " [0.         0.89888455 0.         0.51334885 0.         0.28378635]\n",
      " [0.89888455 0.         0.51334885 0.         0.28378635 0.        ]\n",
      " [0.         0.64201619 0.         0.64069361 0.         0.25695429]\n",
      " [0.64201619 0.         0.64069361 0.         0.25695429 0.        ]]\n"
     ]
    }
   ],
   "source": [
    "import numpy as np\n",
    "\n",
    "def kron_A_X(A):\n",
    "    N = A.shape[0]\n",
    "    out = np.zeros((N*2, N*2),dtype=A.dtype)\n",
    "    for i in range(N):\n",
    "        for j in range(N):\n",
    "            value = A[i,j]\n",
    "            out[i*2: i*2 + 2,j*2:j*2 + 2] = np.array([[0, value], [value, 0]])\n",
    "    return out\n",
    "\n",
    "\n",
    "A = np.random.rand(3, 3)\n",
    "result = kron_A_X(A)\n",
    "print(result)\n"
   ]
  },
  {
   "cell_type": "code",
   "execution_count": 78,
   "metadata": {},
   "outputs": [
    {
     "data": {
      "text/plain": [
       "True"
      ]
     },
     "execution_count": 78,
     "metadata": {},
     "output_type": "execute_result"
    }
   ],
   "source": [
    "np.allclose(np.kron(A, np.array([[0, 1], [1, 0]])), result)"
   ]
  },
  {
   "cell_type": "code",
   "execution_count": 2,
   "metadata": {},
   "outputs": [],
   "source": [
    "A = np.random.rand(300, 300)\n",
    "A = A.astype(np.complex128)\n",
    "B = np.array([[1,1],[1,1]])"
   ]
  },
  {
   "cell_type": "code",
   "execution_count": 32,
   "metadata": {},
   "outputs": [],
   "source": [
    "for i in range(1000):\n",
    "    k = np.kron(A, gate.gate2['CRZ'](np.pi/4))"
   ]
  },
  {
   "cell_type": "code",
   "execution_count": 33,
   "metadata": {},
   "outputs": [
    {
     "data": {
      "text/plain": [
       "True"
      ]
     },
     "execution_count": 33,
     "metadata": {},
     "output_type": "execute_result"
    }
   ],
   "source": [
    "np.allclose(k1, k)"
   ]
  },
  {
   "cell_type": "code",
   "execution_count": 31,
   "metadata": {},
   "outputs": [],
   "source": [
    "for i in range(1000):\n",
    "    k1 = ACRZ(A, np.pi/4)"
   ]
  },
  {
   "cell_type": "code",
   "execution_count": 30,
   "metadata": {},
   "outputs": [],
   "source": [
    "def ACRX(A, theta):\n",
    "    cos_theta_2_times_A = np.cos(theta / 2) * A\n",
    "    sin_theta_2_times_A = -1j * np.sin(theta / 2) * A\n",
    "    m, n = A.shape\n",
    "    out = np.zeros((m, 4, n, 4), dtype=complex)\n",
    "    out[:, 0, :, 0] = A\n",
    "    out[:, 1, :, 1] = A\n",
    "    out[:, 2, :, 2] = cos_theta_2_times_A\n",
    "    out[:, 2, :, 3] = sin_theta_2_times_A\n",
    "    out[:, 3, :, 2] = sin_theta_2_times_A\n",
    "    out[:, 3, :, 3] = cos_theta_2_times_A\n",
    "    out.shape = (4 * m, 4 * n)\n",
    "    return out\n",
    "\n",
    "def CRXA(A, theta):\n",
    "    cos_theta_2_times_A = np.cos(theta / 2) * A\n",
    "    sin_theta_2_times_A = -1j * np.sin(theta / 2) * A\n",
    "    m, n = A.shape\n",
    "    out = np.zeros((4, m, 4, n), dtype=complex)\n",
    "    out[0, :, 0, :] = A\n",
    "    out[1, :, 1, :] = A\n",
    "    out[2, :, 2, :] = cos_theta_2_times_A\n",
    "    out[2, :, 3, :] = sin_theta_2_times_A\n",
    "    out[3, :, 2, :] = sin_theta_2_times_A\n",
    "    out[3, :, 3, :] = cos_theta_2_times_A\n",
    "    out.shape = (4 * m, 4 * n)\n",
    "    return out\n",
    "\n",
    "def ACRY(A, theta):\n",
    "    cos_theta_2_times_A = np.cos(theta / 2) * A\n",
    "    sin_theta_2_times_A = np.sin(theta / 2) * A\n",
    "\n",
    "    m, n = A.shape\n",
    "    out = np.zeros((m, 4, n, 4), dtype=complex)\n",
    "    \n",
    "    out[:, 0, :, 0] = A\n",
    "    out[:, 1, :, 1] = A\n",
    "    out[:, 2, :, 2] = cos_theta_2_times_A\n",
    "    out[:, 2, :, 3] = -sin_theta_2_times_A\n",
    "    out[:, 3, :, 2] = sin_theta_2_times_A\n",
    "    out[:, 3, :, 3] = cos_theta_2_times_A\n",
    "    \n",
    "    out.shape = (4 * m, 4 * n)\n",
    "    return out\n",
    "\n",
    "def CRYA(A, theta):\n",
    "    cos_theta_2_times_A = np.cos(theta / 2) * A\n",
    "    sin_theta_2_times_A = np.sin(theta / 2) * A\n",
    "\n",
    "    m, n = A.shape\n",
    "    out = np.zeros((4, m, 4, n), dtype=complex)\n",
    "    \n",
    "    out[0, :, 0, :] = A\n",
    "    out[1, :, 1, :] = A\n",
    "    out[2, :, 2, :] = cos_theta_2_times_A\n",
    "    out[2, :, 3, :] = -sin_theta_2_times_A\n",
    "    out[3, :, 2, :] = sin_theta_2_times_A\n",
    "    out[3, :, 3, :] = cos_theta_2_times_A\n",
    "    \n",
    "    out.shape = (4 * m, 4 * n)\n",
    "    return out\n",
    "\n",
    "\n",
    "def CRZA(A, theta):\n",
    "    phase = 1j * theta / 2\n",
    "    m, n = A.shape\n",
    "    out = np.zeros((4, m, 4, n), dtype=complex)\n",
    "    out[0, :, 0, :] = A\n",
    "    out[1, :, 1, :] = A\n",
    "    out[2, :, 2, :] = np.exp(-phase) * A\n",
    "    out[3, :, 3, :] = np.exp(phase) * A\n",
    "    out.shape = (4 * m, 4 * n)\n",
    "    return out\n",
    "\n",
    "def ACRZ(A, theta):\n",
    "    phase = 1j * theta / 2\n",
    "    m, n = A.shape\n",
    "    out = np.zeros((m, 4, n, 4), dtype=complex)\n",
    "    out[:, 0, :, 0] = A\n",
    "    out[:, 1, :, 1] = A\n",
    "    out[:, 2, :, 2] = np.exp(-phase) * A\n",
    "    out[:, 3, :, 3] = np.exp(phase) * A\n",
    "    out.shape = (4 * m, 4 * n)\n",
    "    return out\n"
   ]
  }
 ],
 "metadata": {
  "kernelspec": {
   "display_name": "Python 3",
   "language": "python",
   "name": "python3"
  },
  "language_info": {
   "codemirror_mode": {
    "name": "ipython",
    "version": 3
   },
   "file_extension": ".py",
   "mimetype": "text/x-python",
   "name": "python",
   "nbconvert_exporter": "python",
   "pygments_lexer": "ipython3",
   "version": "3.10.9"
  }
 },
 "nbformat": 4,
 "nbformat_minor": 2
}
