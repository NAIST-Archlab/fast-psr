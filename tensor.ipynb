{
 "cells": [
  {
   "cell_type": "code",
   "execution_count": 2,
   "metadata": {},
   "outputs": [
    {
     "name": "stdout",
     "output_type": "stream",
     "text": [
      "[0.70710678+0.j 0.        +0.j 0.        +0.j 0.70710678+0.j]\n"
     ]
    }
   ],
   "source": [
    "import gate\n",
    "import numpy as np\n",
    "\n",
    "init = [1, 0, 0, 0]\n",
    "print(gate.gate2['CX'] @ (np.kron(gate.gate1['H'],gate.gate1['I']) @ init))"
   ]
  },
  {
   "cell_type": "code",
   "execution_count": 10,
   "metadata": {},
   "outputs": [],
   "source": [
    "for i in range(0, 10):\n",
    "    k = np.kron(gate.gate1['I'],gate.gate1['H'])\n"
   ]
  },
  {
   "cell_type": "code",
   "execution_count": null,
   "metadata": {},
   "outputs": [],
   "source": [
    "for i in range(0, 1000000):\n",
    "    k = gate.gate2['IH']"
   ]
  },
  {
   "cell_type": "code",
   "execution_count": 27,
   "metadata": {},
   "outputs": [],
   "source": [
    "def kron_A_I(A, N):\n",
    "    out = np.zeros((N*N, N*N),dtype=A.dtype)\n",
    "    for i in range(N):\n",
    "        for j in range(N):\n",
    "            value = A[i,j]\n",
    "            out[i*2: i*2 + 2,j*2:j*2 + 2] = np.array([[value, 0], [0, value]])\n",
    "    return out"
   ]
  },
  {
   "cell_type": "code",
   "execution_count": 68,
   "metadata": {},
   "outputs": [
    {
     "name": "stdout",
     "output_type": "stream",
     "text": [
      "[[0.08438087 0.41107181 0.04538587 0.95188399]\n",
      " [0.1705832  0.77136947 0.69109793 0.58784028]\n",
      " [0.29480806 0.77784422 0.59064393 0.70858758]\n",
      " [0.11067381 0.13596001 0.74064147 0.29661303]]\n"
     ]
    }
   ],
   "source": [
    "A = np.random.rand(4, 4)\n",
    "print(A)"
   ]
  },
  {
   "cell_type": "code",
   "execution_count": 3,
   "metadata": {},
   "outputs": [
    {
     "name": "stdout",
     "output_type": "stream",
     "text": [
      "[[0.         0.34270731 0.         0.84177329 0.         0.58071937]\n",
      " [0.34270731 0.         0.84177329 0.         0.58071937 0.        ]\n",
      " [0.         0.89888455 0.         0.51334885 0.         0.28378635]\n",
      " [0.89888455 0.         0.51334885 0.         0.28378635 0.        ]\n",
      " [0.         0.64201619 0.         0.64069361 0.         0.25695429]\n",
      " [0.64201619 0.         0.64069361 0.         0.25695429 0.        ]]\n"
     ]
    }
   ],
   "source": [
    "import numpy as np\n",
    "\n",
    "def kron_A_X(A):\n",
    "    N = A.shape[0]\n",
    "    out = np.zeros((N*2, N*2),dtype=A.dtype)\n",
    "    for i in range(N):\n",
    "        for j in range(N):\n",
    "            value = A[i,j]\n",
    "            out[i*2: i*2 + 2,j*2:j*2 + 2] = np.array([[0, value], [value, 0]])\n",
    "    return out\n",
    "\n",
    "\n",
    "A = np.random.rand(3, 3)\n",
    "result = kron_A_X(A)\n",
    "print(result)\n"
   ]
  },
  {
   "cell_type": "code",
   "execution_count": 78,
   "metadata": {},
   "outputs": [
    {
     "data": {
      "text/plain": [
       "True"
      ]
     },
     "execution_count": 78,
     "metadata": {},
     "output_type": "execute_result"
    }
   ],
   "source": [
    "np.allclose(np.kron(A, np.array([[0, 1], [1, 0]])), result)"
   ]
  },
  {
   "cell_type": "code",
   "execution_count": 85,
   "metadata": {},
   "outputs": [],
   "source": [
    "A = np.random.rand(300, 300)\n",
    "B = np.array([[1,1],[1,1]])"
   ]
  },
  {
   "cell_type": "code",
   "execution_count": 91,
   "metadata": {},
   "outputs": [],
   "source": [
    "for i in range(10000):\n",
    "    theta = np.pi / 4\n",
    "    cos_theta_2 = np.cos(theta / 2)\n",
    "    sin_theta_2 = np.sin(theta / 2)\n",
    "    i = 1j\n",
    "    \n",
    "    RX = np.array([\n",
    "        [cos_theta_2, -i * sin_theta_2],\n",
    "        [-i * sin_theta_2, cos_theta_2]\n",
    "    ], dtype=complex)\n",
    "    k = np.kron(A, RX)"
   ]
  },
  {
   "cell_type": "code",
   "execution_count": 89,
   "metadata": {},
   "outputs": [],
   "source": [
    "import numpy as np\n",
    "\n",
    "\n"
   ]
  },
  {
   "cell_type": "code",
   "execution_count": 90,
   "metadata": {},
   "outputs": [],
   "source": [
    "import tensor\n",
    "for i in range(10000):\n",
    "    theta = np.pi / 4\n",
    "    k1 = kron_A_RX(A, theta)"
   ]
  },
  {
   "cell_type": "code",
   "execution_count": 92,
   "metadata": {},
   "outputs": [
    {
     "data": {
      "text/plain": [
       "True"
      ]
     },
     "execution_count": 92,
     "metadata": {},
     "output_type": "execute_result"
    }
   ],
   "source": [
    "np.allclose(k1,k)"
   ]
  },
  {
   "cell_type": "code",
   "execution_count": 72,
   "metadata": {},
   "outputs": [
    {
     "data": {
      "text/plain": [
       "array([[0.81997325+0.j, 0.0025444 +0.j],\n",
       "       [0.90099698+0.j, 0.80737652+0.j]])"
      ]
     },
     "execution_count": 72,
     "metadata": {},
     "output_type": "execute_result"
    }
   ],
   "source": [
    "k1[:2,:2]"
   ]
  },
  {
   "cell_type": "code",
   "execution_count": 73,
   "metadata": {},
   "outputs": [
    {
     "data": {
      "text/plain": [
       "array([[0.21601802+0.j, 0.54611329+0.j],\n",
       "       [0.02745547+0.j, 0.13916608+0.j]])"
      ]
     },
     "execution_count": 73,
     "metadata": {},
     "output_type": "execute_result"
    }
   ],
   "source": [
    "k[:2,:2]"
   ]
  },
  {
   "cell_type": "code",
   "execution_count": 56,
   "metadata": {},
   "outputs": [
    {
     "data": {
      "text/plain": [
       "False"
      ]
     },
     "execution_count": 56,
     "metadata": {},
     "output_type": "execute_result"
    }
   ],
   "source": [
    "np.allclose(k1, k)"
   ]
  },
  {
   "cell_type": "code",
   "execution_count": 64,
   "metadata": {},
   "outputs": [
    {
     "name": "stdout",
     "output_type": "stream",
     "text": [
      "[[0.9239+0.j     0.9239+0.j     0.    -0.3827j 0.    -0.3827j]\n",
      " [0.9239+0.j     0.9239+0.j     0.    -0.3827j 0.    -0.3827j]\n",
      " [0.    -0.3827j 0.    -0.3827j 0.9239+0.j     0.9239+0.j    ]\n",
      " [0.    -0.3827j 0.    -0.3827j 0.9239+0.j     0.9239+0.j    ]]\n"
     ]
    }
   ],
   "source": [
    "import numpy as np\n",
    "\n",
    "def kron_RX_A(theta, A):\n",
    "    cos_theta_2 = np.cos(theta / 2)\n",
    "    sin_theta_2 = np.sin(theta / 2)\n",
    "    i = 1j\n",
    "    \n",
    "    RX = np.array([\n",
    "        [cos_theta_2, -i * sin_theta_2],\n",
    "        [-i * sin_theta_2, cos_theta_2]\n",
    "    ], dtype=complex)\n",
    "    \n",
    "    m, n = A.shape\n",
    "    out = np.zeros((2, m, 2, n), dtype=complex)\n",
    "    \n",
    "    out[0, :, 0, :] = cos_theta_2 * A\n",
    "    out[0, :, 1, :] = -i * sin_theta_2 * A\n",
    "    out[1, :, 0, :] = -i * sin_theta_2 * A\n",
    "    out[1, :, 1, :] = cos_theta_2 * A\n",
    "    \n",
    "    out.shape = (2 * m, 2 * n)\n",
    "    return out\n",
    "\n",
    "# Example usage:\n",
    "theta = np.pi / 4\n",
    "A = np.array([[1, 1], [1, 1]])\n",
    "result = kron_RX_A(theta, A)\n",
    "print(np.round(result, 4))\n"
   ]
  },
  {
   "cell_type": "code",
   "execution_count": 61,
   "metadata": {},
   "outputs": [
    {
     "data": {
      "text/plain": [
       "0.9238795325112867"
      ]
     },
     "execution_count": 61,
     "metadata": {},
     "output_type": "execute_result"
    }
   ],
   "source": [
    "np.allclose("
   ]
  },
  {
   "cell_type": "code",
   "execution_count": 7,
   "metadata": {},
   "outputs": [],
   "source": [
    "from string import ascii_lowercase as letters\n",
    "from functools import reduce\n",
    "\n",
    "def mv_kron(matrices, y):\n",
    "    '''\n",
    "    Compute product of vector and Kronecker-structured matrix\n",
    "    via brute-force enumeration of entire Kronecker matrix.\n",
    "    '''\n",
    "    A_kron = reduce(np.kron, matrices)\n",
    "    return A_kron @ y.ravel()\n",
    "\n",
    "def mv_einstein(matrices, y):\n",
    "    '''\n",
    "    Use Einstein summation convention to iteratively\n",
    "    contract along secondary axes and implement Kronecker \n",
    "    matrix-vector product\n",
    "    '''\n",
    "    p = len(matrices)\n",
    "    \n",
    "    if p > 13:\n",
    "        raise ValueError('There aren\\'t enough letters in the alphabet for this operation :(')\n",
    "    \n",
    "    letter_pairs = [letters[2*i]+letters[2*i+1] for i in range(p)]\n",
    "    matrix_string = ','.join(letter_pairs)\n",
    "    vec_in_string, vec_out_string = [''.join(s) for s in zip(*letter_pairs)]\n",
    "    string_spec = f'{matrix_string},{vec_in_string}->{vec_out_string}'\n",
    "    \n",
    "    return np.einsum(string_spec, *matrices, y, optimize='greedy').ravel(), string_spec"
   ]
  },
  {
   "cell_type": "code",
   "execution_count": 8,
   "metadata": {},
   "outputs": [
    {
     "name": "stdout",
     "output_type": "stream",
     "text": [
      "Dimension: 64    Einstein time: 0.000 s. Naive time 0.000s.\n",
      "Dimension: 512   Einstein time: 0.000 s. Naive time 0.008s.\n",
      "Dimension: 1728  Einstein time: 0.000 s. Naive time 0.008s.\n",
      "Dimension: 4096  Einstein time: 0.000 s. Naive time 0.049s.\n",
      "Dimension: 8000  Einstein time: 0.010 s. Naive time 0.172s.\n",
      "Dimension: 13824 Einstein time: 0.020 s. Naive time 0.478s.\n",
      "Dimension: 21952 Einstein time: 0.052 s. Naive time 1.247s.\n",
      "Dimension: 32768 Einstein time: 0.014 s. Naive time 4.383s.\n"
     ]
    }
   ],
   "source": [
    "ein_times  = []\n",
    "kron_times = []\n",
    "dimensions = []\n",
    "import time\n",
    "for scale in [1, 2, 3, 4, 5, 6, 7, 8]:\n",
    "    sizes = [2*scale, 4*scale, 8*scale]\n",
    "    matrices = [np.random.randn(n,n) for n in sizes]\n",
    "    matrices = [X@X.T for X in matrices]\n",
    "    y = np.random.randn(*sizes)\n",
    "    \n",
    "    start_kron = time.perf_counter()\n",
    "    mv_kron(matrices, y)\n",
    "    end_kron = time.perf_counter() - start_kron\n",
    "    \n",
    "    start_ein = time.perf_counter()\n",
    "    _, string_spec = mv_einstein(matrices, y)\n",
    "    end_ein = time.perf_counter() - start_ein\n",
    "    \n",
    "    ein_times  += [end_ein]\n",
    "    kron_times += [end_kron]\n",
    "    dimensions += [y.size]\n",
    "    print('Dimension:', str(y.size).ljust(5), f'Einstein time: {end_ein:.3f} s.', f'Naive time {end_kron:.3f}s.')\n"
   ]
  }
 ],
 "metadata": {
  "kernelspec": {
   "display_name": "Python 3",
   "language": "python",
   "name": "python3"
  },
  "language_info": {
   "codemirror_mode": {
    "name": "ipython",
    "version": 3
   },
   "file_extension": ".py",
   "mimetype": "text/x-python",
   "name": "python",
   "nbconvert_exporter": "python",
   "pygments_lexer": "ipython3",
   "version": "3.10.9"
  }
 },
 "nbformat": 4,
 "nbformat_minor": 2
}
