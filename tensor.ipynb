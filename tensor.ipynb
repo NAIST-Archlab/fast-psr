{
 "cells": [
  {
   "cell_type": "code",
   "execution_count": 2,
   "metadata": {},
   "outputs": [],
   "source": [
    "from qimax import gate\n",
    "import numpy as np\n",
    "%load_ext autoreload\n",
    "%autoreload 2"
   ]
  },
  {
   "cell_type": "code",
   "execution_count": 6,
   "metadata": {},
   "outputs": [],
   "source": [
    "import random\n",
    "from qimax import gate\n",
    "k = 4\n",
    "gate_list = ['I', 'H', 'S', 'CX', 'RX', 'RY', 'RZ']\n",
    "gates = random.choices(gate_list, k=k)\n",
    "tensor_input_forms = []\n",
    "tensor_string_forms = []\n",
    "index = 0\n",
    "if gates[0] in ['RX', 'RY', 'RZ']:\n",
    "    phase = random.uniform(0, 2*np.pi)\n",
    "    tensor = gate.gate[gates[0]](phase)\n",
    "    tensor_input_forms.append(f\"{gates[0]} {phase} {index}\")\n",
    "    index += 1\n",
    "else:\n",
    "    tensor = gate.gate[gates[0]]\n",
    "    if gates[0] == 'CX':\n",
    "        tensor_input_forms.append(f\"{gates[0]} {index} {index+1}\")\n",
    "        index += 2\n",
    "    else:\n",
    "        tensor_input_forms.append(f\"{gates[0]} {index}\")\n",
    "        index += 1\n",
    "for gate1 in gates:\n",
    "    if gate1 in ['RX', 'RY', 'RZ']:\n",
    "        phase = random.uniform(0, 2*np.pi)\n",
    "        tensor = np.kron(tensor, gate.gate[gate1](\n",
    "            phase))\n",
    "        tensor_input_forms.append(f\"{gate1} {phase} {index}\")\n",
    "        index += 1\n",
    "    else:\n",
    "        tensor = np.kron(tensor, gate.gate[gate1])\n",
    "        if gate1 == 'CX':\n",
    "            tensor_input_forms.append(f\"{gate1} {index} {index+1}\")\n",
    "            index += 2\n",
    "        else:\n",
    "            tensor_input_forms.append(f\"{gate1} {index}\")\n",
    "            index += 1\n",
    "for i in range(tensor.shape[0]):\n",
    "    for j in range(tensor.shape[1]):\n",
    "        tensor_string_forms.append(f\"{i} | {j} | {tensor[i,j]}\")\n",
    "np.savetxt(f'./data_hardware/tensor/in_{k}.txt', tensor_input_forms, fmt='%s')\n",
    "np.savetxt(\n",
    "    f'./data_hardware/tensor/out_{k}.txt', tensor_string_forms, fmt='%s')"
   ]
  },
  {
   "cell_type": "code",
   "execution_count": 47,
   "metadata": {},
   "outputs": [
    {
     "name": "stdout",
     "output_type": "stream",
     "text": [
      "          ┌───┐     \n",
      "q_0: ──■──┤ X ├──■──\n",
      "     ┌─┴─┐└─┬─┘┌─┴─┐\n",
      "q_1: ┤ X ├──■──┤ X ├\n",
      "     └───┘     └───┘\n"
     ]
    }
   ],
   "source": [
    "from qiskit import QuantumCircuit, transpile\n",
    "from qiskit.circuit.library import RZGate\n",
    "\n",
    "# Create a quantum circuit\n",
    "qc = QuantumCircuit(2)\n",
    "qc.swap(0,1)\n",
    "\n",
    "# Transpile the circuit\n",
    "transpiled_circuit = transpile(qc, basis_gates=['h','s','cx','rx','ry','rz'])\n",
    "\n",
    "# Print the transpiled circuit\n",
    "print(transpiled_circuit)"
   ]
  },
  {
   "cell_type": "code",
   "execution_count": null,
   "metadata": {},
   "outputs": [],
   "source": [
    "for i in range(0, 1000000):\n",
    "    k = gate.gate['IH']"
   ]
  },
  {
   "cell_type": "code",
   "execution_count": 10,
   "metadata": {},
   "outputs": [],
   "source": [
    "A = np.random.uniform(0, 2*np.pi, (2**15, 2**15))"
   ]
  },
  {
   "cell_type": "code",
   "execution_count": 12,
   "metadata": {},
   "outputs": [
    {
     "data": {
      "text/plain": [
       "array([102899.83947437, 102570.91444041, 102992.24811631, ...,\n",
       "       103653.72500952, 103321.13151543, 102951.52620608])"
      ]
     },
     "execution_count": 12,
     "metadata": {},
     "output_type": "execute_result"
    }
   ],
   "source": [
    "A @ np.ones(2**15)"
   ]
  },
  {
   "cell_type": "code",
   "execution_count": 4,
   "metadata": {},
   "outputs": [
    {
     "ename": "",
     "evalue": "",
     "output_type": "error",
     "traceback": [
      "\u001b[1;31mThe Kernel crashed while executing code in the current cell or a previous cell. \n",
      "\u001b[1;31mPlease review the code in the cell(s) to identify a possible cause of the failure. \n",
      "\u001b[1;31mClick <a href='https://aka.ms/vscodeJupyterKernelCrash'>here</a> for more info. \n",
      "\u001b[1;31mView Jupyter <a href='command:jupyter.viewOutput'>log</a> for further details."
     ]
    }
   ],
   "source": [
    "for i in range(1):\n",
    "    k = np.kron(A, np.array([[0, 0], [0, 1]]))"
   ]
  },
  {
   "cell_type": "code",
   "execution_count": 7,
   "metadata": {},
   "outputs": [],
   "source": [
    "A @ A"
   ]
  },
  {
   "cell_type": "code",
   "execution_count": 65,
   "metadata": {},
   "outputs": [
    {
     "name": "stdout",
     "output_type": "stream",
     "text": [
      "(2097152, 80)\n"
     ]
    }
   ],
   "source": [
    "import tensor\n",
    "k1 = tensor.ARY(A, 1)\n",
    "print(k1.shape)"
   ]
  },
  {
   "cell_type": "code",
   "execution_count": 52,
   "metadata": {},
   "outputs": [
    {
     "name": "stdout",
     "output_type": "stream",
     "text": [
      "[[0. 0. 0. 0. 0. 0.]\n",
      " [0. 1. 0. 2. 0. 3.]\n",
      " [0. 0. 0. 0. 0. 0.]\n",
      " [0. 4. 0. 5. 0. 6.]\n",
      " [0. 0. 0. 0. 0. 0.]\n",
      " [0. 7. 0. 8. 0. 9.]]\n"
     ]
    }
   ],
   "source": [
    "import numpy as np\n",
    "\n",
    "\n",
    "def AP3(A):\n",
    "    rows, cols = A.shape\n",
    "    kron_result = np.zeros((2 * rows, 2 * cols))\n",
    "    kron_result[1::2, 1::2] = A\n",
    "    return kron_result\n",
    "\n",
    "\n",
    "# Example usage\n",
    "A = np.array([[1, 2, 3], [4, 5, 6], [7, 8, 9]])\n",
    "result = AP3(A)\n",
    "print(result)"
   ]
  }
 ],
 "metadata": {
  "kernelspec": {
   "display_name": "Python 3",
   "language": "python",
   "name": "python3"
  },
  "language_info": {
   "codemirror_mode": {
    "name": "ipython",
    "version": 3
   },
   "file_extension": ".py",
   "mimetype": "text/x-python",
   "name": "python",
   "nbconvert_exporter": "python",
   "pygments_lexer": "ipython3",
   "version": "3.10.11"
  }
 },
 "nbformat": 4,
 "nbformat_minor": 2
}
